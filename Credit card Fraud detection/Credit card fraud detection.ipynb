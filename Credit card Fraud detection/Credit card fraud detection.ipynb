{
 "cells": [
  {
   "cell_type": "markdown",
   "metadata": {
    "id": "zEU9bsYcMHcV"
   },
   "source": [
    "# **Exploratory Data Analysis**\n"
   ]
  },
  {
   "cell_type": "code",
   "execution_count": 1,
   "metadata": {
    "id": "k_Yh2fKFMTbi"
   },
   "outputs": [],
   "source": [
    "import pandas as pd\n",
    "import numpy as np\n",
    "import seaborn as sns\n",
    "import matplotlib.pyplot as plt\n",
    "from scipy import stats\n",
    "from scipy.stats import ttest_1samp"
   ]
  },
  {
   "cell_type": "code",
   "execution_count": 2,
   "metadata": {
    "id": "RuKLYviUMw1Q"
   },
   "outputs": [],
   "source": [
    "import warnings\n",
    "warnings.filterwarnings(\"ignore\")"
   ]
  },
  {
   "cell_type": "markdown",
   "metadata": {
    "id": "OA-38ii1NA5p"
   },
   "source": [
    "Since we were provided with 2 datasets, with train and test datasets, so we are importing both the datasets together in 1 cell\n"
   ]
  },
  {
   "cell_type": "code",
   "execution_count": 3,
   "metadata": {},
   "outputs": [],
   "source": [
    "fraud_train=pd.read_csv(\"E:\\JPMC GEMSTONES/fraudTrain.csv\")\n",
    "fraud_test=pd.read_csv(\"E:\\JPMC GEMSTONES/fraudTest.csv\")\n",
    "df = pd.concat([fraud_train,fraud_test], ignore_index = True)"
   ]
  },
  {
   "cell_type": "code",
   "execution_count": 4,
   "metadata": {
    "colab": {
     "base_uri": "https://localhost:8080/"
    },
    "id": "B9gzXZu-MxHA",
    "outputId": "546b7eea-b139-4e83-cac6-297c2cbac34b"
   },
   "outputs": [
    {
     "data": {
      "text/plain": [
       "(1852394, 23)"
      ]
     },
     "execution_count": 4,
     "metadata": {},
     "output_type": "execute_result"
    }
   ],
   "source": [
    "df.shape            #checking Dimensions of our data"
   ]
  },
  {
   "cell_type": "code",
   "execution_count": 5,
   "metadata": {
    "colab": {
     "base_uri": "https://localhost:8080/"
    },
    "id": "SOMhtCizMxgM",
    "outputId": "977cf09a-a5f0-4740-824d-693cbb135fbf"
   },
   "outputs": [
    {
     "data": {
      "text/plain": [
       "Index(['Unnamed: 0', 'trans_date_trans_time', 'cc_num', 'merchant', 'category',\n",
       "       'amt', 'first', 'last', 'gender', 'street', 'city', 'state', 'zip',\n",
       "       'lat', 'long', 'city_pop', 'job', 'dob', 'trans_num', 'unix_time',\n",
       "       'merch_lat', 'merch_long', 'is_fraud'],\n",
       "      dtype='object')"
      ]
     },
     "execution_count": 5,
     "metadata": {},
     "output_type": "execute_result"
    }
   ],
   "source": [
    "\n",
    "df.columns          #Listing of all the attributes of the dataset"
   ]
  },
  {
   "cell_type": "code",
   "execution_count": 6,
   "metadata": {
    "colab": {
     "base_uri": "https://localhost:8080/"
    },
    "id": "SrwTyiMNMxo1",
    "outputId": "7dfa63c0-4765-483d-b0e2-b61dae4fe0ed"
   },
   "outputs": [
    {
     "name": "stdout",
     "output_type": "stream",
     "text": [
      "<class 'pandas.core.frame.DataFrame'>\n",
      "RangeIndex: 1852394 entries, 0 to 1852393\n",
      "Data columns (total 23 columns):\n",
      " #   Column                 Dtype  \n",
      "---  ------                 -----  \n",
      " 0   Unnamed: 0             int64  \n",
      " 1   trans_date_trans_time  object \n",
      " 2   cc_num                 int64  \n",
      " 3   merchant               object \n",
      " 4   category               object \n",
      " 5   amt                    float64\n",
      " 6   first                  object \n",
      " 7   last                   object \n",
      " 8   gender                 object \n",
      " 9   street                 object \n",
      " 10  city                   object \n",
      " 11  state                  object \n",
      " 12  zip                    int64  \n",
      " 13  lat                    float64\n",
      " 14  long                   float64\n",
      " 15  city_pop               int64  \n",
      " 16  job                    object \n",
      " 17  dob                    object \n",
      " 18  trans_num              object \n",
      " 19  unix_time              int64  \n",
      " 20  merch_lat              float64\n",
      " 21  merch_long             float64\n",
      " 22  is_fraud               int64  \n",
      "dtypes: float64(5), int64(6), object(12)\n",
      "memory usage: 325.1+ MB\n"
     ]
    }
   ],
   "source": [
    "df.info()           #Datatypes of all the attributes"
   ]
  },
  {
   "cell_type": "code",
   "execution_count": 7,
   "metadata": {
    "colab": {
     "base_uri": "https://localhost:8080/",
     "height": 476
    },
    "id": "o00KjPKQMxrn",
    "outputId": "aebc34dd-e796-48e6-fe16-82533b20b042"
   },
   "outputs": [
    {
     "data": {
      "text/html": [
       "<div>\n",
       "<style scoped>\n",
       "    .dataframe tbody tr th:only-of-type {\n",
       "        vertical-align: middle;\n",
       "    }\n",
       "\n",
       "    .dataframe tbody tr th {\n",
       "        vertical-align: top;\n",
       "    }\n",
       "\n",
       "    .dataframe thead th {\n",
       "        text-align: right;\n",
       "    }\n",
       "</style>\n",
       "<table border=\"1\" class=\"dataframe\">\n",
       "  <thead>\n",
       "    <tr style=\"text-align: right;\">\n",
       "      <th></th>\n",
       "      <th>count</th>\n",
       "      <th>mean</th>\n",
       "      <th>std</th>\n",
       "      <th>min</th>\n",
       "      <th>25%</th>\n",
       "      <th>50%</th>\n",
       "      <th>75%</th>\n",
       "      <th>max</th>\n",
       "    </tr>\n",
       "  </thead>\n",
       "  <tbody>\n",
       "    <tr>\n",
       "      <th>Unnamed: 0</th>\n",
       "      <td>1852394.0</td>\n",
       "      <td>5.371934e+05</td>\n",
       "      <td>3.669110e+05</td>\n",
       "      <td>0.000000e+00</td>\n",
       "      <td>2.315490e+05</td>\n",
       "      <td>4.630980e+05</td>\n",
       "      <td>8.335758e+05</td>\n",
       "      <td>1.296674e+06</td>\n",
       "    </tr>\n",
       "    <tr>\n",
       "      <th>cc_num</th>\n",
       "      <td>1852394.0</td>\n",
       "      <td>4.173860e+17</td>\n",
       "      <td>1.309115e+18</td>\n",
       "      <td>6.041621e+10</td>\n",
       "      <td>1.800429e+14</td>\n",
       "      <td>3.521417e+15</td>\n",
       "      <td>4.642255e+15</td>\n",
       "      <td>4.992346e+18</td>\n",
       "    </tr>\n",
       "    <tr>\n",
       "      <th>amt</th>\n",
       "      <td>1852394.0</td>\n",
       "      <td>7.006357e+01</td>\n",
       "      <td>1.592540e+02</td>\n",
       "      <td>1.000000e+00</td>\n",
       "      <td>9.640000e+00</td>\n",
       "      <td>4.745000e+01</td>\n",
       "      <td>8.310000e+01</td>\n",
       "      <td>2.894890e+04</td>\n",
       "    </tr>\n",
       "    <tr>\n",
       "      <th>zip</th>\n",
       "      <td>1852394.0</td>\n",
       "      <td>4.881326e+04</td>\n",
       "      <td>2.688185e+04</td>\n",
       "      <td>1.257000e+03</td>\n",
       "      <td>2.623700e+04</td>\n",
       "      <td>4.817400e+04</td>\n",
       "      <td>7.204200e+04</td>\n",
       "      <td>9.992100e+04</td>\n",
       "    </tr>\n",
       "    <tr>\n",
       "      <th>lat</th>\n",
       "      <td>1852394.0</td>\n",
       "      <td>3.853931e+01</td>\n",
       "      <td>5.071470e+00</td>\n",
       "      <td>2.002710e+01</td>\n",
       "      <td>3.466890e+01</td>\n",
       "      <td>3.935430e+01</td>\n",
       "      <td>4.194040e+01</td>\n",
       "      <td>6.669330e+01</td>\n",
       "    </tr>\n",
       "    <tr>\n",
       "      <th>long</th>\n",
       "      <td>1852394.0</td>\n",
       "      <td>-9.022783e+01</td>\n",
       "      <td>1.374789e+01</td>\n",
       "      <td>-1.656723e+02</td>\n",
       "      <td>-9.679800e+01</td>\n",
       "      <td>-8.747690e+01</td>\n",
       "      <td>-8.015800e+01</td>\n",
       "      <td>-6.795030e+01</td>\n",
       "    </tr>\n",
       "    <tr>\n",
       "      <th>city_pop</th>\n",
       "      <td>1852394.0</td>\n",
       "      <td>8.864367e+04</td>\n",
       "      <td>3.014876e+05</td>\n",
       "      <td>2.300000e+01</td>\n",
       "      <td>7.410000e+02</td>\n",
       "      <td>2.443000e+03</td>\n",
       "      <td>2.032800e+04</td>\n",
       "      <td>2.906700e+06</td>\n",
       "    </tr>\n",
       "    <tr>\n",
       "      <th>unix_time</th>\n",
       "      <td>1852394.0</td>\n",
       "      <td>1.358674e+09</td>\n",
       "      <td>1.819508e+07</td>\n",
       "      <td>1.325376e+09</td>\n",
       "      <td>1.343017e+09</td>\n",
       "      <td>1.357089e+09</td>\n",
       "      <td>1.374581e+09</td>\n",
       "      <td>1.388534e+09</td>\n",
       "    </tr>\n",
       "    <tr>\n",
       "      <th>merch_lat</th>\n",
       "      <td>1852394.0</td>\n",
       "      <td>3.853898e+01</td>\n",
       "      <td>5.105604e+00</td>\n",
       "      <td>1.902742e+01</td>\n",
       "      <td>3.474012e+01</td>\n",
       "      <td>3.936890e+01</td>\n",
       "      <td>4.195626e+01</td>\n",
       "      <td>6.751027e+01</td>\n",
       "    </tr>\n",
       "    <tr>\n",
       "      <th>merch_long</th>\n",
       "      <td>1852394.0</td>\n",
       "      <td>-9.022794e+01</td>\n",
       "      <td>1.375969e+01</td>\n",
       "      <td>-1.666716e+02</td>\n",
       "      <td>-9.689944e+01</td>\n",
       "      <td>-8.744069e+01</td>\n",
       "      <td>-8.024511e+01</td>\n",
       "      <td>-6.695090e+01</td>\n",
       "    </tr>\n",
       "    <tr>\n",
       "      <th>is_fraud</th>\n",
       "      <td>1852394.0</td>\n",
       "      <td>5.210015e-03</td>\n",
       "      <td>7.199217e-02</td>\n",
       "      <td>0.000000e+00</td>\n",
       "      <td>0.000000e+00</td>\n",
       "      <td>0.000000e+00</td>\n",
       "      <td>0.000000e+00</td>\n",
       "      <td>1.000000e+00</td>\n",
       "    </tr>\n",
       "  </tbody>\n",
       "</table>\n",
       "</div>"
      ],
      "text/plain": [
       "                count          mean           std           min           25%  \\\n",
       "Unnamed: 0  1852394.0  5.371934e+05  3.669110e+05  0.000000e+00  2.315490e+05   \n",
       "cc_num      1852394.0  4.173860e+17  1.309115e+18  6.041621e+10  1.800429e+14   \n",
       "amt         1852394.0  7.006357e+01  1.592540e+02  1.000000e+00  9.640000e+00   \n",
       "zip         1852394.0  4.881326e+04  2.688185e+04  1.257000e+03  2.623700e+04   \n",
       "lat         1852394.0  3.853931e+01  5.071470e+00  2.002710e+01  3.466890e+01   \n",
       "long        1852394.0 -9.022783e+01  1.374789e+01 -1.656723e+02 -9.679800e+01   \n",
       "city_pop    1852394.0  8.864367e+04  3.014876e+05  2.300000e+01  7.410000e+02   \n",
       "unix_time   1852394.0  1.358674e+09  1.819508e+07  1.325376e+09  1.343017e+09   \n",
       "merch_lat   1852394.0  3.853898e+01  5.105604e+00  1.902742e+01  3.474012e+01   \n",
       "merch_long  1852394.0 -9.022794e+01  1.375969e+01 -1.666716e+02 -9.689944e+01   \n",
       "is_fraud    1852394.0  5.210015e-03  7.199217e-02  0.000000e+00  0.000000e+00   \n",
       "\n",
       "                     50%           75%           max  \n",
       "Unnamed: 0  4.630980e+05  8.335758e+05  1.296674e+06  \n",
       "cc_num      3.521417e+15  4.642255e+15  4.992346e+18  \n",
       "amt         4.745000e+01  8.310000e+01  2.894890e+04  \n",
       "zip         4.817400e+04  7.204200e+04  9.992100e+04  \n",
       "lat         3.935430e+01  4.194040e+01  6.669330e+01  \n",
       "long       -8.747690e+01 -8.015800e+01 -6.795030e+01  \n",
       "city_pop    2.443000e+03  2.032800e+04  2.906700e+06  \n",
       "unix_time   1.357089e+09  1.374581e+09  1.388534e+09  \n",
       "merch_lat   3.936890e+01  4.195626e+01  6.751027e+01  \n",
       "merch_long -8.744069e+01 -8.024511e+01 -6.695090e+01  \n",
       "is_fraud    0.000000e+00  0.000000e+00  1.000000e+00  "
      ]
     },
     "execution_count": 7,
     "metadata": {},
     "output_type": "execute_result"
    }
   ],
   "source": [
    "df.describe().T     #Statistical measures of each attribute "
   ]
  },
  {
   "cell_type": "code",
   "execution_count": 8,
   "metadata": {
    "id": "6bi6fT23Mxt_"
   },
   "outputs": [],
   "source": [
    "df.drop(['Unnamed: 0'],axis=1,inplace=True)  "
   ]
  },
  {
   "cell_type": "code",
   "execution_count": 10,
   "metadata": {
    "id": "ilecFwgLOs8y"
   },
   "outputs": [],
   "source": [
    "df=df.dropna()"
   ]
  },
  {
   "cell_type": "code",
   "execution_count": 11,
   "metadata": {
    "colab": {
     "base_uri": "https://localhost:8080/"
    },
    "id": "RhVSuCD3PB4L",
    "outputId": "69b184f3-f295-455d-9a65-8c96bf5b1721"
   },
   "outputs": [
    {
     "data": {
      "text/plain": [
       "trans_date_trans_time    0\n",
       "cc_num                   0\n",
       "merchant                 0\n",
       "category                 0\n",
       "amt                      0\n",
       "first                    0\n",
       "last                     0\n",
       "gender                   0\n",
       "street                   0\n",
       "city                     0\n",
       "state                    0\n",
       "zip                      0\n",
       "lat                      0\n",
       "long                     0\n",
       "city_pop                 0\n",
       "job                      0\n",
       "dob                      0\n",
       "trans_num                0\n",
       "unix_time                0\n",
       "merch_lat                0\n",
       "merch_long               0\n",
       "is_fraud                 0\n",
       "dtype: int64"
      ]
     },
     "execution_count": 11,
     "metadata": {},
     "output_type": "execute_result"
    }
   ],
   "source": [
    "df.isnull().sum() "
   ]
  },
  {
   "cell_type": "code",
   "execution_count": 12,
   "metadata": {
    "colab": {
     "base_uri": "https://localhost:8080/"
    },
    "id": "iILmDtgvMx0X",
    "outputId": "2374226f-eb93-434b-c76e-1073cc8b96dd"
   },
   "outputs": [
    {
     "data": {
      "text/plain": [
       "False"
      ]
     },
     "execution_count": 12,
     "metadata": {},
     "output_type": "execute_result"
    }
   ],
   "source": [
    "df.duplicated().any()   #Finding any duplicate values"
   ]
  },
  {
   "cell_type": "code",
   "execution_count": 13,
   "metadata": {
    "colab": {
     "base_uri": "https://localhost:8080/",
     "height": 346
    },
    "id": "2dpkISR_Mx26",
    "outputId": "2e36a44d-ce89-41f8-e596-85b05546ca93"
   },
   "outputs": [
    {
     "data": {
      "image/png": "[encoded data removed]",
      "text/plain": [
       "<Figure size 432x288 with 1 Axes>"
      ]
     },
     "metadata": {
      "needs_background": "light"
     },
     "output_type": "display_data"
    }
   ],
   "source": [
    "f=sns.countplot(df['is_fraud'])\n",
    "for p in f.patches:\n",
    "   f.annotate('{:.1f}'.format(p.get_height()), (p.get_x()+0.25, p.get_height()+0.01))"
   ]
  },
  {
   "cell_type": "code",
   "execution_count": 14,
   "metadata": {
    "colab": {
     "base_uri": "https://localhost:8080/",
     "height": 364
    },
    "id": "wcV9I7trMx5w",
    "outputId": "5826405f-e254-4c3f-8ee2-816f1516c161"
   },
   "outputs": [
    {
     "data": {
      "text/html": [
       "<div>\n",
       "<style scoped>\n",
       "    .dataframe tbody tr th:only-of-type {\n",
       "        vertical-align: middle;\n",
       "    }\n",
       "\n",
       "    .dataframe tbody tr th {\n",
       "        vertical-align: top;\n",
       "    }\n",
       "\n",
       "    .dataframe thead th {\n",
       "        text-align: right;\n",
       "    }\n",
       "</style>\n",
       "<table border=\"1\" class=\"dataframe\">\n",
       "  <thead>\n",
       "    <tr style=\"text-align: right;\">\n",
       "      <th></th>\n",
       "      <th>cc_num</th>\n",
       "      <th>amt</th>\n",
       "      <th>zip</th>\n",
       "      <th>lat</th>\n",
       "      <th>long</th>\n",
       "      <th>city_pop</th>\n",
       "      <th>unix_time</th>\n",
       "      <th>merch_lat</th>\n",
       "      <th>merch_long</th>\n",
       "      <th>is_fraud</th>\n",
       "    </tr>\n",
       "  </thead>\n",
       "  <tbody>\n",
       "    <tr>\n",
       "      <th>count</th>\n",
       "      <td>9.651000e+03</td>\n",
       "      <td>9651.000000</td>\n",
       "      <td>9651.000000</td>\n",
       "      <td>9651.000000</td>\n",
       "      <td>9651.000000</td>\n",
       "      <td>9.651000e+03</td>\n",
       "      <td>9.651000e+03</td>\n",
       "      <td>9651.000000</td>\n",
       "      <td>9651.000000</td>\n",
       "      <td>9651.0</td>\n",
       "    </tr>\n",
       "    <tr>\n",
       "      <th>mean</th>\n",
       "      <td>3.970393e+17</td>\n",
       "      <td>530.661412</td>\n",
       "      <td>47999.638379</td>\n",
       "      <td>38.742813</td>\n",
       "      <td>-90.033730</td>\n",
       "      <td>8.999842e+04</td>\n",
       "      <td>1.355323e+09</td>\n",
       "      <td>38.734962</td>\n",
       "      <td>-90.037919</td>\n",
       "      <td>1.0</td>\n",
       "    </tr>\n",
       "    <tr>\n",
       "      <th>std</th>\n",
       "      <td>1.276696e+18</td>\n",
       "      <td>391.028873</td>\n",
       "      <td>27140.975802</td>\n",
       "      <td>5.153060</td>\n",
       "      <td>14.250246</td>\n",
       "      <td>3.062833e+05</td>\n",
       "      <td>1.793362e+07</td>\n",
       "      <td>5.192904</td>\n",
       "      <td>14.268910</td>\n",
       "      <td>0.0</td>\n",
       "    </tr>\n",
       "    <tr>\n",
       "      <th>min</th>\n",
       "      <td>6.041621e+10</td>\n",
       "      <td>1.060000</td>\n",
       "      <td>1257.000000</td>\n",
       "      <td>20.027100</td>\n",
       "      <td>-165.672300</td>\n",
       "      <td>2.300000e+01</td>\n",
       "      <td>1.325466e+09</td>\n",
       "      <td>19.161782</td>\n",
       "      <td>-166.550779</td>\n",
       "      <td>1.0</td>\n",
       "    </tr>\n",
       "    <tr>\n",
       "      <th>25%</th>\n",
       "      <td>1.800174e+14</td>\n",
       "      <td>240.075000</td>\n",
       "      <td>24433.000000</td>\n",
       "      <td>35.042850</td>\n",
       "      <td>-96.727000</td>\n",
       "      <td>7.950000e+02</td>\n",
       "      <td>1.339520e+09</td>\n",
       "      <td>35.087441</td>\n",
       "      <td>-96.678370</td>\n",
       "      <td>1.0</td>\n",
       "    </tr>\n",
       "    <tr>\n",
       "      <th>50%</th>\n",
       "      <td>3.521261e+15</td>\n",
       "      <td>390.000000</td>\n",
       "      <td>46946.000000</td>\n",
       "      <td>39.537000</td>\n",
       "      <td>-87.043600</td>\n",
       "      <td>2.693000e+03</td>\n",
       "      <td>1.355276e+09</td>\n",
       "      <td>39.516424</td>\n",
       "      <td>-87.167538</td>\n",
       "      <td>1.0</td>\n",
       "    </tr>\n",
       "    <tr>\n",
       "      <th>75%</th>\n",
       "      <td>4.603179e+15</td>\n",
       "      <td>902.365000</td>\n",
       "      <td>70447.000000</td>\n",
       "      <td>42.076500</td>\n",
       "      <td>-79.940300</td>\n",
       "      <td>1.905400e+04</td>\n",
       "      <td>1.370567e+09</td>\n",
       "      <td>42.043486</td>\n",
       "      <td>-79.907350</td>\n",
       "      <td>1.0</td>\n",
       "    </tr>\n",
       "    <tr>\n",
       "      <th>max</th>\n",
       "      <td>4.992346e+18</td>\n",
       "      <td>1376.040000</td>\n",
       "      <td>99921.000000</td>\n",
       "      <td>66.693300</td>\n",
       "      <td>-67.950300</td>\n",
       "      <td>2.906700e+06</td>\n",
       "      <td>1.387754e+09</td>\n",
       "      <td>67.510267</td>\n",
       "      <td>-66.960745</td>\n",
       "      <td>1.0</td>\n",
       "    </tr>\n",
       "  </tbody>\n",
       "</table>\n",
       "</div>"
      ],
      "text/plain": [
       "             cc_num          amt           zip          lat         long  \\\n",
       "count  9.651000e+03  9651.000000   9651.000000  9651.000000  9651.000000   \n",
       "mean   3.970393e+17   530.661412  47999.638379    38.742813   -90.033730   \n",
       "std    1.276696e+18   391.028873  27140.975802     5.153060    14.250246   \n",
       "min    6.041621e+10     1.060000   1257.000000    20.027100  -165.672300   \n",
       "25%    1.800174e+14   240.075000  24433.000000    35.042850   -96.727000   \n",
       "50%    3.521261e+15   390.000000  46946.000000    39.537000   -87.043600   \n",
       "75%    4.603179e+15   902.365000  70447.000000    42.076500   -79.940300   \n",
       "max    4.992346e+18  1376.040000  99921.000000    66.693300   -67.950300   \n",
       "\n",
       "           city_pop     unix_time    merch_lat   merch_long  is_fraud  \n",
       "count  9.651000e+03  9.651000e+03  9651.000000  9651.000000    9651.0  \n",
       "mean   8.999842e+04  1.355323e+09    38.734962   -90.037919       1.0  \n",
       "std    3.062833e+05  1.793362e+07     5.192904    14.268910       0.0  \n",
       "min    2.300000e+01  1.325466e+09    19.161782  -166.550779       1.0  \n",
       "25%    7.950000e+02  1.339520e+09    35.087441   -96.678370       1.0  \n",
       "50%    2.693000e+03  1.355276e+09    39.516424   -87.167538       1.0  \n",
       "75%    1.905400e+04  1.370567e+09    42.043486   -79.907350       1.0  \n",
       "max    2.906700e+06  1.387754e+09    67.510267   -66.960745       1.0  "
      ]
     },
     "execution_count": 14,
     "metadata": {},
     "output_type": "execute_result"
    }
   ],
   "source": [
    "fraud=df[df['is_fraud']==1]\n",
    "fraud.describe()"
   ]
  },
  {
   "cell_type": "code",
   "execution_count": 15,
   "metadata": {
    "colab": {
     "base_uri": "https://localhost:8080/",
     "height": 342
    },
    "id": "uks3ThyjVlEj",
    "outputId": "be260cf0-f404-480c-d2c9-fd989e37ad59"
   },
   "outputs": [
    {
     "data": {
      "text/plain": [
       "<AxesSubplot:>"
      ]
     },
     "execution_count": 15,
     "metadata": {},
     "output_type": "execute_result"
    },
    {
     "data": {
      "image/png": "[encoded data removed]",
      "text/plain": [
       "<Figure size 1296x360 with 2 Axes>"
      ]
     },
     "metadata": {
      "needs_background": "light"
     },
     "output_type": "display_data"
    }
   ],
   "source": [
    "plt.figure(figsize=(18,5))    \n",
    "sns.heatmap(df.corr(),annot = True)\n"
   ]
  },
  {
   "cell_type": "markdown",
   "metadata": {
    "id": "86hk8FtjnfvM"
   },
   "source": [
    "**Uni-Variate Analysis**"
   ]
  },
  {
   "cell_type": "code",
   "execution_count": 16,
   "metadata": {
    "colab": {
     "base_uri": "https://localhost:8080/",
     "height": 143
    },
    "id": "yI7tAWqvVlQD",
    "outputId": "76a0fbbd-c96d-42a7-b82c-bcb8a5685ba4"
   },
   "outputs": [
    {
     "data": {
      "text/html": [
       "<div>\n",
       "<style scoped>\n",
       "    .dataframe tbody tr th:only-of-type {\n",
       "        vertical-align: middle;\n",
       "    }\n",
       "\n",
       "    .dataframe tbody tr th {\n",
       "        vertical-align: top;\n",
       "    }\n",
       "\n",
       "    .dataframe thead th {\n",
       "        text-align: right;\n",
       "    }\n",
       "</style>\n",
       "<table border=\"1\" class=\"dataframe\">\n",
       "  <thead>\n",
       "    <tr style=\"text-align: right;\">\n",
       "      <th>is_fraud</th>\n",
       "      <th>0</th>\n",
       "      <th>1</th>\n",
       "    </tr>\n",
       "    <tr>\n",
       "      <th>gender</th>\n",
       "      <th></th>\n",
       "      <th></th>\n",
       "    </tr>\n",
       "  </thead>\n",
       "  <tbody>\n",
       "    <tr>\n",
       "      <th>F</th>\n",
       "      <td>1009850</td>\n",
       "      <td>4899</td>\n",
       "    </tr>\n",
       "    <tr>\n",
       "      <th>M</th>\n",
       "      <td>832893</td>\n",
       "      <td>4752</td>\n",
       "    </tr>\n",
       "  </tbody>\n",
       "</table>\n",
       "</div>"
      ],
      "text/plain": [
       "is_fraud        0     1\n",
       "gender                 \n",
       "F         1009850  4899\n",
       "M          832893  4752"
      ]
     },
     "execution_count": 16,
     "metadata": {},
     "output_type": "execute_result"
    }
   ],
   "source": [
    "pd.crosstab(df['gender'],df['is_fraud'])  #Comapring fraudulent transactions of male and feamle"
   ]
  },
  {
   "cell_type": "code",
   "execution_count": 17,
   "metadata": {
    "colab": {
     "base_uri": "https://localhost:8080/",
     "height": 296
    },
    "id": "9OMVJwbpVlST",
    "outputId": "0c315c27-8068-4541-b1a3-cd611f0e34a9"
   },
   "outputs": [
    {
     "data": {
      "text/plain": [
       "<AxesSubplot:xlabel='gender', ylabel='count'>"
      ]
     },
     "execution_count": 17,
     "metadata": {},
     "output_type": "execute_result"
    },
    {
     "data": {
      "image/png": "[encoded data removed]",
      "text/plain": [
       "<Figure size 432x288 with 1 Axes>"
      ]
     },
     "metadata": {
      "needs_background": "light"
     },
     "output_type": "display_data"
    }
   ],
   "source": [
    "\n",
    "sns.countplot(x='gender',data=df[df['is_fraud']==1])"
   ]
  },
  {
   "cell_type": "markdown",
   "metadata": {
    "id": "kGZMba7OW1kF"
   },
   "source": [
    "Females are more prone to fraud"
   ]
  },
  {
   "cell_type": "code",
   "execution_count": 18,
   "metadata": {
    "id": "A1ncXDzgMx8E"
   },
   "outputs": [],
   "source": [
    "#Calculating age from Date of Birth\n",
    "df['age'] = pd.DatetimeIndex(df[\"trans_date_trans_time\"]).year-pd.DatetimeIndex(df[\"dob\"]).year"
   ]
  },
  {
   "cell_type": "code",
   "execution_count": 19,
   "metadata": {
    "id": "P-iNu96xMx_e"
   },
   "outputs": [],
   "source": [
    "#Dividing age into multiple categories(Age Groups)                   \n",
    "def age_group(row):      \n",
    "  \n",
    "  \n",
    "  rows = row[\"age\"]\n",
    "  if rows <20:\n",
    "     return \"less than 20\"\n",
    "  elif rows >=20 and rows<30:\n",
    "    return \"20 to 30\"\n",
    "  elif rows >=30 and rows<40:\n",
    "     return \"30 to 40\"\n",
    "  elif rows >=40 and rows<50:\n",
    "     return \"40 to 50\"\n",
    "  elif rows >=50 and rows<60:\n",
    "     return \"50 to 60\"\n",
    "  elif rows >=60 and rows<70:\n",
    "     return \"60 to 70\"\n",
    "  elif rows >=70 and rows<80:\n",
    "     return \"70 to 80\"\n",
    "  elif rows >=80 and rows<90:\n",
    "     return \"80 to 90\"\n",
    "  else:\n",
    "     return \"greater than 90\"\n",
    "df[\"age_group\"] = df.apply(age_group,axis=1)\n"
   ]
  },
  {
   "cell_type": "code",
   "execution_count": 20,
   "metadata": {
    "colab": {
     "base_uri": "https://localhost:8080/",
     "height": 351
    },
    "id": "OoB8GDlPQUZB",
    "outputId": "6d44624a-1276-4881-c87c-d40621756595"
   },
   "outputs": [
    {
     "data": {
      "text/plain": [
       "<AxesSubplot:xlabel='age_group', ylabel='count'>"
      ]
     },
     "execution_count": 20,
     "metadata": {},
     "output_type": "execute_result"
    },
    {
     "data": {
      "image/png": "[encoded data removed]",
      "text/plain": [
       "<Figure size 720x360 with 1 Axes>"
      ]
     },
     "metadata": {
      "needs_background": "light"
     },
     "output_type": "display_data"
    }
   ],
   "source": [
    "plt.figure(figsize=(10,5))       \n",
    "order1 = [\"less than 20\",\"20 to 30\",\"30 to 40\",\"40 to 50\",\"50 to 60\",\"60 to 70\",\"70 to 80\",\"80 to 90\",\"greater than 90\"]\n",
    "sns.countplot(x=\"age_group\",data=df[df[\"is_fraud\"]==1], order = order1)"
   ]
  },
  {
   "cell_type": "markdown",
   "metadata": {
    "id": "72z8Z3pZSwF_"
   },
   "source": [
    "People between the agegroups of 20-60 are more victicms of fraud"
   ]
  },
  {
   "cell_type": "code",
   "execution_count": 21,
   "metadata": {
    "colab": {
     "base_uri": "https://localhost:8080/",
     "height": 143
    },
    "id": "SXHh-pvdQUWT",
    "outputId": "c08fd7c9-2dca-4950-9501-f793e9336b6d"
   },
   "outputs": [
    {
     "data": {
      "text/html": [
       "<div>\n",
       "<style scoped>\n",
       "    .dataframe tbody tr th:only-of-type {\n",
       "        vertical-align: middle;\n",
       "    }\n",
       "\n",
       "    .dataframe tbody tr th {\n",
       "        vertical-align: top;\n",
       "    }\n",
       "\n",
       "    .dataframe thead th {\n",
       "        text-align: right;\n",
       "    }\n",
       "</style>\n",
       "<table border=\"1\" class=\"dataframe\">\n",
       "  <thead>\n",
       "    <tr style=\"text-align: right;\">\n",
       "      <th></th>\n",
       "      <th>count</th>\n",
       "      <th>mean</th>\n",
       "      <th>std</th>\n",
       "      <th>min</th>\n",
       "      <th>25%</th>\n",
       "      <th>50%</th>\n",
       "      <th>75%</th>\n",
       "      <th>max</th>\n",
       "    </tr>\n",
       "    <tr>\n",
       "      <th>is_fraud</th>\n",
       "      <th></th>\n",
       "      <th></th>\n",
       "      <th></th>\n",
       "      <th></th>\n",
       "      <th></th>\n",
       "      <th></th>\n",
       "      <th></th>\n",
       "      <th></th>\n",
       "    </tr>\n",
       "  </thead>\n",
       "  <tbody>\n",
       "    <tr>\n",
       "      <th>0</th>\n",
       "      <td>1842743.0</td>\n",
       "      <td>67.651278</td>\n",
       "      <td>153.548108</td>\n",
       "      <td>1.00</td>\n",
       "      <td>9.610</td>\n",
       "      <td>47.24</td>\n",
       "      <td>82.560</td>\n",
       "      <td>28948.90</td>\n",
       "    </tr>\n",
       "    <tr>\n",
       "      <th>1</th>\n",
       "      <td>9651.0</td>\n",
       "      <td>530.661412</td>\n",
       "      <td>391.028873</td>\n",
       "      <td>1.06</td>\n",
       "      <td>240.075</td>\n",
       "      <td>390.00</td>\n",
       "      <td>902.365</td>\n",
       "      <td>1376.04</td>\n",
       "    </tr>\n",
       "  </tbody>\n",
       "</table>\n",
       "</div>"
      ],
      "text/plain": [
       "              count        mean         std   min      25%     50%      75%  \\\n",
       "is_fraud                                                                      \n",
       "0         1842743.0   67.651278  153.548108  1.00    9.610   47.24   82.560   \n",
       "1            9651.0  530.661412  391.028873  1.06  240.075  390.00  902.365   \n",
       "\n",
       "               max  \n",
       "is_fraud            \n",
       "0         28948.90  \n",
       "1          1376.04  "
      ]
     },
     "execution_count": 21,
     "metadata": {},
     "output_type": "execute_result"
    }
   ],
   "source": [
    "df.groupby([\"is_fraud\"])['amt'].describe()"
   ]
  },
  {
   "cell_type": "code",
   "execution_count": 22,
   "metadata": {
    "colab": {
     "base_uri": "https://localhost:8080/",
     "height": 482
    },
    "id": "l9HUN61RV1ur",
    "outputId": "a002766f-9e96-4d99-b706-d583d4256722"
   },
   "outputs": [
    {
     "data": {
      "text/plain": [
       "<AxesSubplot:xlabel='amt'>"
      ]
     },
     "execution_count": 22,
     "metadata": {},
     "output_type": "execute_result"
    },
    {
     "data": {
      "image/png": "[encoded data removed]",
      "text/plain": [
       "<Figure size 1296x648 with 1 Axes>"
      ]
     },
     "metadata": {
      "needs_background": "light"
     },
     "output_type": "display_data"
    }
   ],
   "source": [
    "plt.figure(figsize=(18,9))       \n",
    "sns.boxplot(x=\"amt\",data = df[df['is_fraud']==1])"
   ]
  },
  {
   "cell_type": "markdown",
   "metadata": {
    "id": "hojrvFkoV7FM"
   },
   "source": [
    "fraudulent trans are more when the amount is more than $400"
   ]
  },
  {
   "cell_type": "code",
   "execution_count": 24,
   "metadata": {},
   "outputs": [],
   "source": [
    "df['limit'] = df.groupby(['cc_num'])['amt'].transform(sum)/24     #Monthly spending limit for each card"
   ]
  },
  {
   "cell_type": "code",
   "execution_count": 25,
   "metadata": {},
   "outputs": [
    {
     "data": {
      "text/plain": [
       "0          10904.141250\n",
       "1          10192.197083\n",
       "2           2141.430833\n",
       "3           2479.454167\n",
       "4          11607.784583\n",
       "               ...     \n",
       "1852389     5702.241250\n",
       "1852390     7696.076250\n",
       "1852391    13494.141250\n",
       "1852392     7423.971250\n",
       "1852393     9391.851250\n",
       "Name: limit, Length: 1852394, dtype: float64"
      ]
     },
     "execution_count": 25,
     "metadata": {},
     "output_type": "execute_result"
    }
   ],
   "source": [
    "df['limit']"
   ]
  },
  {
   "cell_type": "code",
   "execution_count": 26,
   "metadata": {},
   "outputs": [
    {
     "data": {
      "text/plain": [
       "10335.681667    4392\n",
       "14007.261667    4392\n",
       "8749.420000     4386\n",
       "15992.391667    4386\n",
       "10804.984583    4386\n",
       "                ... \n",
       "255.064167         7\n",
       "103.927083         7\n",
       "236.331250         7\n",
       "133.488750         7\n",
       "178.020000         6\n",
       "Name: limit, Length: 998, dtype: int64"
      ]
     },
     "execution_count": 26,
     "metadata": {},
     "output_type": "execute_result"
    }
   ],
   "source": [
    "df['limit'].value_counts()"
   ]
  },
  {
   "cell_type": "code",
   "execution_count": 27,
   "metadata": {},
   "outputs": [
    {
     "data": {
      "text/plain": [
       "6538441737335434    4392\n",
       "30270432095985      4392\n",
       "6538891242532018    4386\n",
       "4364010865167176    4386\n",
       "4642255475285942    4386\n",
       "                    ... \n",
       "4225628813173670       7\n",
       "340187018810220        7\n",
       "6011732631674654       7\n",
       "4734310647841293       7\n",
       "4295296907373          6\n",
       "Name: cc_num, Length: 999, dtype: int64"
      ]
     },
     "execution_count": 27,
     "metadata": {},
     "output_type": "execute_result"
    }
   ],
   "source": [
    "df[\"cc_num\"].value_counts()"
   ]
  },
  {
   "cell_type": "code",
   "execution_count": 28,
   "metadata": {},
   "outputs": [
    {
     "name": "stdout",
     "output_type": "stream",
     "text": [
      "<class 'pandas.core.frame.DataFrame'>\n",
      "Int64Index: 1852394 entries, 0 to 1852393\n",
      "Data columns (total 25 columns):\n",
      " #   Column                 Dtype  \n",
      "---  ------                 -----  \n",
      " 0   trans_date_trans_time  object \n",
      " 1   cc_num                 int64  \n",
      " 2   merchant               object \n",
      " 3   category               object \n",
      " 4   amt                    float64\n",
      " 5   first                  object \n",
      " 6   last                   object \n",
      " 7   gender                 object \n",
      " 8   street                 object \n",
      " 9   city                   object \n",
      " 10  state                  object \n",
      " 11  zip                    int64  \n",
      " 12  lat                    float64\n",
      " 13  long                   float64\n",
      " 14  city_pop               int64  \n",
      " 15  job                    object \n",
      " 16  dob                    object \n",
      " 17  trans_num              object \n",
      " 18  unix_time              int64  \n",
      " 19  merch_lat              float64\n",
      " 20  merch_long             float64\n",
      " 21  is_fraud               int64  \n",
      " 22  age                    int64  \n",
      " 23  age_group              object \n",
      " 24  limit                  float64\n",
      "dtypes: float64(6), int64(6), object(13)\n",
      "memory usage: 367.4+ MB\n"
     ]
    }
   ],
   "source": [
    "df.info()"
   ]
  },
  {
   "cell_type": "code",
   "execution_count": 29,
   "metadata": {},
   "outputs": [
    {
     "data": {
      "text/html": [
       "<div>\n",
       "<style scoped>\n",
       "    .dataframe tbody tr th:only-of-type {\n",
       "        vertical-align: middle;\n",
       "    }\n",
       "\n",
       "    .dataframe tbody tr th {\n",
       "        vertical-align: top;\n",
       "    }\n",
       "\n",
       "    .dataframe thead th {\n",
       "        text-align: right;\n",
       "    }\n",
       "</style>\n",
       "<table border=\"1\" class=\"dataframe\">\n",
       "  <thead>\n",
       "    <tr style=\"text-align: right;\">\n",
       "      <th></th>\n",
       "      <th>cc_num</th>\n",
       "      <th>amt</th>\n",
       "      <th>zip</th>\n",
       "      <th>lat</th>\n",
       "      <th>long</th>\n",
       "      <th>city_pop</th>\n",
       "      <th>unix_time</th>\n",
       "      <th>merch_lat</th>\n",
       "      <th>merch_long</th>\n",
       "      <th>is_fraud</th>\n",
       "      <th>age</th>\n",
       "      <th>limit</th>\n",
       "    </tr>\n",
       "  </thead>\n",
       "  <tbody>\n",
       "    <tr>\n",
       "      <th>cc_num</th>\n",
       "      <td>1.000000</td>\n",
       "      <td>0.001826</td>\n",
       "      <td>0.041504</td>\n",
       "      <td>-0.058744</td>\n",
       "      <td>-0.048429</td>\n",
       "      <td>-0.009118</td>\n",
       "      <td>0.000284</td>\n",
       "      <td>-0.058415</td>\n",
       "      <td>-0.048421</td>\n",
       "      <td>-0.001125</td>\n",
       "      <td>-0.000131</td>\n",
       "      <td>-0.006475</td>\n",
       "    </tr>\n",
       "    <tr>\n",
       "      <th>amt</th>\n",
       "      <td>0.001826</td>\n",
       "      <td>1.000000</td>\n",
       "      <td>0.001979</td>\n",
       "      <td>-0.000670</td>\n",
       "      <td>-0.000735</td>\n",
       "      <td>0.004921</td>\n",
       "      <td>-0.002411</td>\n",
       "      <td>-0.000613</td>\n",
       "      <td>-0.000711</td>\n",
       "      <td>0.209308</td>\n",
       "      <td>-0.010695</td>\n",
       "      <td>0.031377</td>\n",
       "    </tr>\n",
       "    <tr>\n",
       "      <th>zip</th>\n",
       "      <td>0.041504</td>\n",
       "      <td>0.001979</td>\n",
       "      <td>1.000000</td>\n",
       "      <td>-0.114554</td>\n",
       "      <td>-0.909795</td>\n",
       "      <td>0.077601</td>\n",
       "      <td>0.001017</td>\n",
       "      <td>-0.113934</td>\n",
       "      <td>-0.908981</td>\n",
       "      <td>-0.002190</td>\n",
       "      <td>0.010359</td>\n",
       "      <td>0.053979</td>\n",
       "    </tr>\n",
       "    <tr>\n",
       "      <th>lat</th>\n",
       "      <td>-0.058744</td>\n",
       "      <td>-0.000670</td>\n",
       "      <td>-0.114554</td>\n",
       "      <td>1.000000</td>\n",
       "      <td>-0.014744</td>\n",
       "      <td>-0.154816</td>\n",
       "      <td>0.000741</td>\n",
       "      <td>0.993582</td>\n",
       "      <td>-0.014709</td>\n",
       "      <td>0.002904</td>\n",
       "      <td>0.047143</td>\n",
       "      <td>-0.035843</td>\n",
       "    </tr>\n",
       "    <tr>\n",
       "      <th>long</th>\n",
       "      <td>-0.048429</td>\n",
       "      <td>-0.000735</td>\n",
       "      <td>-0.909795</td>\n",
       "      <td>-0.014744</td>\n",
       "      <td>1.000000</td>\n",
       "      <td>-0.052359</td>\n",
       "      <td>-0.000574</td>\n",
       "      <td>-0.014585</td>\n",
       "      <td>0.999118</td>\n",
       "      <td>0.001022</td>\n",
       "      <td>-0.029437</td>\n",
       "      <td>-0.027976</td>\n",
       "    </tr>\n",
       "    <tr>\n",
       "      <th>city_pop</th>\n",
       "      <td>-0.009118</td>\n",
       "      <td>0.004921</td>\n",
       "      <td>0.077601</td>\n",
       "      <td>-0.154816</td>\n",
       "      <td>-0.052359</td>\n",
       "      <td>1.000000</td>\n",
       "      <td>-0.001636</td>\n",
       "      <td>-0.153863</td>\n",
       "      <td>-0.052329</td>\n",
       "      <td>0.000325</td>\n",
       "      <td>-0.090889</td>\n",
       "      <td>0.052586</td>\n",
       "    </tr>\n",
       "    <tr>\n",
       "      <th>unix_time</th>\n",
       "      <td>0.000284</td>\n",
       "      <td>-0.002411</td>\n",
       "      <td>0.001017</td>\n",
       "      <td>0.000741</td>\n",
       "      <td>-0.000574</td>\n",
       "      <td>-0.001636</td>\n",
       "      <td>1.000000</td>\n",
       "      <td>0.000696</td>\n",
       "      <td>-0.000571</td>\n",
       "      <td>-0.013329</td>\n",
       "      <td>0.020680</td>\n",
       "      <td>0.001598</td>\n",
       "    </tr>\n",
       "    <tr>\n",
       "      <th>merch_lat</th>\n",
       "      <td>-0.058415</td>\n",
       "      <td>-0.000613</td>\n",
       "      <td>-0.113934</td>\n",
       "      <td>0.993582</td>\n",
       "      <td>-0.014585</td>\n",
       "      <td>-0.153863</td>\n",
       "      <td>0.000696</td>\n",
       "      <td>1.000000</td>\n",
       "      <td>-0.014554</td>\n",
       "      <td>0.002778</td>\n",
       "      <td>0.046768</td>\n",
       "      <td>-0.035608</td>\n",
       "    </tr>\n",
       "    <tr>\n",
       "      <th>merch_long</th>\n",
       "      <td>-0.048421</td>\n",
       "      <td>-0.000711</td>\n",
       "      <td>-0.908981</td>\n",
       "      <td>-0.014709</td>\n",
       "      <td>0.999118</td>\n",
       "      <td>-0.052329</td>\n",
       "      <td>-0.000571</td>\n",
       "      <td>-0.014554</td>\n",
       "      <td>1.000000</td>\n",
       "      <td>0.000999</td>\n",
       "      <td>-0.029392</td>\n",
       "      <td>-0.027969</td>\n",
       "    </tr>\n",
       "    <tr>\n",
       "      <th>is_fraud</th>\n",
       "      <td>-0.001125</td>\n",
       "      <td>0.209308</td>\n",
       "      <td>-0.002190</td>\n",
       "      <td>0.002904</td>\n",
       "      <td>0.001022</td>\n",
       "      <td>0.000325</td>\n",
       "      <td>-0.013329</td>\n",
       "      <td>0.002778</td>\n",
       "      <td>0.000999</td>\n",
       "      <td>1.000000</td>\n",
       "      <td>0.010927</td>\n",
       "      <td>-0.044430</td>\n",
       "    </tr>\n",
       "    <tr>\n",
       "      <th>age</th>\n",
       "      <td>-0.000131</td>\n",
       "      <td>-0.010695</td>\n",
       "      <td>0.010359</td>\n",
       "      <td>0.047143</td>\n",
       "      <td>-0.029437</td>\n",
       "      <td>-0.090889</td>\n",
       "      <td>0.020680</td>\n",
       "      <td>0.046768</td>\n",
       "      <td>-0.029392</td>\n",
       "      <td>0.010927</td>\n",
       "      <td>1.000000</td>\n",
       "      <td>-0.347856</td>\n",
       "    </tr>\n",
       "    <tr>\n",
       "      <th>limit</th>\n",
       "      <td>-0.006475</td>\n",
       "      <td>0.031377</td>\n",
       "      <td>0.053979</td>\n",
       "      <td>-0.035843</td>\n",
       "      <td>-0.027976</td>\n",
       "      <td>0.052586</td>\n",
       "      <td>0.001598</td>\n",
       "      <td>-0.035608</td>\n",
       "      <td>-0.027969</td>\n",
       "      <td>-0.044430</td>\n",
       "      <td>-0.347856</td>\n",
       "      <td>1.000000</td>\n",
       "    </tr>\n",
       "  </tbody>\n",
       "</table>\n",
       "</div>"
      ],
      "text/plain": [
       "              cc_num       amt       zip       lat      long  city_pop  \\\n",
       "cc_num      1.000000  0.001826  0.041504 -0.058744 -0.048429 -0.009118   \n",
       "amt         0.001826  1.000000  0.001979 -0.000670 -0.000735  0.004921   \n",
       "zip         0.041504  0.001979  1.000000 -0.114554 -0.909795  0.077601   \n",
       "lat        -0.058744 -0.000670 -0.114554  1.000000 -0.014744 -0.154816   \n",
       "long       -0.048429 -0.000735 -0.909795 -0.014744  1.000000 -0.052359   \n",
       "city_pop   -0.009118  0.004921  0.077601 -0.154816 -0.052359  1.000000   \n",
       "unix_time   0.000284 -0.002411  0.001017  0.000741 -0.000574 -0.001636   \n",
       "merch_lat  -0.058415 -0.000613 -0.113934  0.993582 -0.014585 -0.153863   \n",
       "merch_long -0.048421 -0.000711 -0.908981 -0.014709  0.999118 -0.052329   \n",
       "is_fraud   -0.001125  0.209308 -0.002190  0.002904  0.001022  0.000325   \n",
       "age        -0.000131 -0.010695  0.010359  0.047143 -0.029437 -0.090889   \n",
       "limit      -0.006475  0.031377  0.053979 -0.035843 -0.027976  0.052586   \n",
       "\n",
       "            unix_time  merch_lat  merch_long  is_fraud       age     limit  \n",
       "cc_num       0.000284  -0.058415   -0.048421 -0.001125 -0.000131 -0.006475  \n",
       "amt         -0.002411  -0.000613   -0.000711  0.209308 -0.010695  0.031377  \n",
       "zip          0.001017  -0.113934   -0.908981 -0.002190  0.010359  0.053979  \n",
       "lat          0.000741   0.993582   -0.014709  0.002904  0.047143 -0.035843  \n",
       "long        -0.000574  -0.014585    0.999118  0.001022 -0.029437 -0.027976  \n",
       "city_pop    -0.001636  -0.153863   -0.052329  0.000325 -0.090889  0.052586  \n",
       "unix_time    1.000000   0.000696   -0.000571 -0.013329  0.020680  0.001598  \n",
       "merch_lat    0.000696   1.000000   -0.014554  0.002778  0.046768 -0.035608  \n",
       "merch_long  -0.000571  -0.014554    1.000000  0.000999 -0.029392 -0.027969  \n",
       "is_fraud    -0.013329   0.002778    0.000999  1.000000  0.010927 -0.044430  \n",
       "age          0.020680   0.046768   -0.029392  0.010927  1.000000 -0.347856  \n",
       "limit        0.001598  -0.035608   -0.027969 -0.044430 -0.347856  1.000000  "
      ]
     },
     "execution_count": 29,
     "metadata": {},
     "output_type": "execute_result"
    }
   ],
   "source": [
    "df.corr()"
   ]
  },
  {
   "cell_type": "code",
   "execution_count": 30,
   "metadata": {},
   "outputs": [
    {
     "data": {
      "text/html": [
       "<div>\n",
       "<style scoped>\n",
       "    .dataframe tbody tr th:only-of-type {\n",
       "        vertical-align: middle;\n",
       "    }\n",
       "\n",
       "    .dataframe tbody tr th {\n",
       "        vertical-align: top;\n",
       "    }\n",
       "\n",
       "    .dataframe thead th {\n",
       "        text-align: right;\n",
       "    }\n",
       "</style>\n",
       "<table border=\"1\" class=\"dataframe\">\n",
       "  <thead>\n",
       "    <tr style=\"text-align: right;\">\n",
       "      <th></th>\n",
       "      <th>cc_num</th>\n",
       "      <th>amt</th>\n",
       "      <th>zip</th>\n",
       "      <th>lat</th>\n",
       "      <th>long</th>\n",
       "      <th>city_pop</th>\n",
       "      <th>unix_time</th>\n",
       "      <th>merch_lat</th>\n",
       "      <th>merch_long</th>\n",
       "      <th>is_fraud</th>\n",
       "      <th>age</th>\n",
       "      <th>limit</th>\n",
       "    </tr>\n",
       "  </thead>\n",
       "  <tbody>\n",
       "    <tr>\n",
       "      <th>count</th>\n",
       "      <td>1.852394e+06</td>\n",
       "      <td>1.852394e+06</td>\n",
       "      <td>1.852394e+06</td>\n",
       "      <td>1.852394e+06</td>\n",
       "      <td>1.852394e+06</td>\n",
       "      <td>1.852394e+06</td>\n",
       "      <td>1.852394e+06</td>\n",
       "      <td>1.852394e+06</td>\n",
       "      <td>1.852394e+06</td>\n",
       "      <td>1.852394e+06</td>\n",
       "      <td>1.852394e+06</td>\n",
       "      <td>1.852394e+06</td>\n",
       "    </tr>\n",
       "    <tr>\n",
       "      <th>mean</th>\n",
       "      <td>4.173860e+17</td>\n",
       "      <td>7.006357e+01</td>\n",
       "      <td>4.881326e+04</td>\n",
       "      <td>3.853931e+01</td>\n",
       "      <td>-9.022783e+01</td>\n",
       "      <td>8.864367e+04</td>\n",
       "      <td>1.358674e+09</td>\n",
       "      <td>3.853898e+01</td>\n",
       "      <td>-9.022794e+01</td>\n",
       "      <td>5.210015e-03</td>\n",
       "      <td>4.621138e+01</td>\n",
       "      <td>7.517911e+03</td>\n",
       "    </tr>\n",
       "    <tr>\n",
       "      <th>std</th>\n",
       "      <td>1.309115e+18</td>\n",
       "      <td>1.592540e+02</td>\n",
       "      <td>2.688185e+04</td>\n",
       "      <td>5.071470e+00</td>\n",
       "      <td>1.374789e+01</td>\n",
       "      <td>3.014876e+05</td>\n",
       "      <td>1.819508e+07</td>\n",
       "      <td>5.105604e+00</td>\n",
       "      <td>1.375969e+01</td>\n",
       "      <td>7.199217e-02</td>\n",
       "      <td>1.739545e+01</td>\n",
       "      <td>3.508104e+03</td>\n",
       "    </tr>\n",
       "    <tr>\n",
       "      <th>min</th>\n",
       "      <td>6.041621e+10</td>\n",
       "      <td>1.000000e+00</td>\n",
       "      <td>1.257000e+03</td>\n",
       "      <td>2.002710e+01</td>\n",
       "      <td>-1.656723e+02</td>\n",
       "      <td>2.300000e+01</td>\n",
       "      <td>1.325376e+09</td>\n",
       "      <td>1.902742e+01</td>\n",
       "      <td>-1.666716e+02</td>\n",
       "      <td>0.000000e+00</td>\n",
       "      <td>1.400000e+01</td>\n",
       "      <td>5.618875e+01</td>\n",
       "    </tr>\n",
       "    <tr>\n",
       "      <th>25%</th>\n",
       "      <td>1.800429e+14</td>\n",
       "      <td>9.640000e+00</td>\n",
       "      <td>2.623700e+04</td>\n",
       "      <td>3.466890e+01</td>\n",
       "      <td>-9.679800e+01</td>\n",
       "      <td>7.410000e+02</td>\n",
       "      <td>1.343017e+09</td>\n",
       "      <td>3.474012e+01</td>\n",
       "      <td>-9.689944e+01</td>\n",
       "      <td>0.000000e+00</td>\n",
       "      <td>3.300000e+01</td>\n",
       "      <td>5.245820e+03</td>\n",
       "    </tr>\n",
       "    <tr>\n",
       "      <th>50%</th>\n",
       "      <td>3.521417e+15</td>\n",
       "      <td>4.745000e+01</td>\n",
       "      <td>4.817400e+04</td>\n",
       "      <td>3.935430e+01</td>\n",
       "      <td>-8.747690e+01</td>\n",
       "      <td>2.443000e+03</td>\n",
       "      <td>1.357089e+09</td>\n",
       "      <td>3.936890e+01</td>\n",
       "      <td>-8.744069e+01</td>\n",
       "      <td>0.000000e+00</td>\n",
       "      <td>4.400000e+01</td>\n",
       "      <td>7.230608e+03</td>\n",
       "    </tr>\n",
       "    <tr>\n",
       "      <th>75%</th>\n",
       "      <td>4.642255e+15</td>\n",
       "      <td>8.310000e+01</td>\n",
       "      <td>7.204200e+04</td>\n",
       "      <td>4.194040e+01</td>\n",
       "      <td>-8.015800e+01</td>\n",
       "      <td>2.032800e+04</td>\n",
       "      <td>1.374581e+09</td>\n",
       "      <td>4.195626e+01</td>\n",
       "      <td>-8.024511e+01</td>\n",
       "      <td>0.000000e+00</td>\n",
       "      <td>5.700000e+01</td>\n",
       "      <td>9.133270e+03</td>\n",
       "    </tr>\n",
       "    <tr>\n",
       "      <th>max</th>\n",
       "      <td>4.992346e+18</td>\n",
       "      <td>2.894890e+04</td>\n",
       "      <td>9.992100e+04</td>\n",
       "      <td>6.669330e+01</td>\n",
       "      <td>-6.795030e+01</td>\n",
       "      <td>2.906700e+06</td>\n",
       "      <td>1.388534e+09</td>\n",
       "      <td>6.751027e+01</td>\n",
       "      <td>-6.695090e+01</td>\n",
       "      <td>1.000000e+00</td>\n",
       "      <td>9.600000e+01</td>\n",
       "      <td>1.715292e+04</td>\n",
       "    </tr>\n",
       "  </tbody>\n",
       "</table>\n",
       "</div>"
      ],
      "text/plain": [
       "             cc_num           amt           zip           lat          long  \\\n",
       "count  1.852394e+06  1.852394e+06  1.852394e+06  1.852394e+06  1.852394e+06   \n",
       "mean   4.173860e+17  7.006357e+01  4.881326e+04  3.853931e+01 -9.022783e+01   \n",
       "std    1.309115e+18  1.592540e+02  2.688185e+04  5.071470e+00  1.374789e+01   \n",
       "min    6.041621e+10  1.000000e+00  1.257000e+03  2.002710e+01 -1.656723e+02   \n",
       "25%    1.800429e+14  9.640000e+00  2.623700e+04  3.466890e+01 -9.679800e+01   \n",
       "50%    3.521417e+15  4.745000e+01  4.817400e+04  3.935430e+01 -8.747690e+01   \n",
       "75%    4.642255e+15  8.310000e+01  7.204200e+04  4.194040e+01 -8.015800e+01   \n",
       "max    4.992346e+18  2.894890e+04  9.992100e+04  6.669330e+01 -6.795030e+01   \n",
       "\n",
       "           city_pop     unix_time     merch_lat    merch_long      is_fraud  \\\n",
       "count  1.852394e+06  1.852394e+06  1.852394e+06  1.852394e+06  1.852394e+06   \n",
       "mean   8.864367e+04  1.358674e+09  3.853898e+01 -9.022794e+01  5.210015e-03   \n",
       "std    3.014876e+05  1.819508e+07  5.105604e+00  1.375969e+01  7.199217e-02   \n",
       "min    2.300000e+01  1.325376e+09  1.902742e+01 -1.666716e+02  0.000000e+00   \n",
       "25%    7.410000e+02  1.343017e+09  3.474012e+01 -9.689944e+01  0.000000e+00   \n",
       "50%    2.443000e+03  1.357089e+09  3.936890e+01 -8.744069e+01  0.000000e+00   \n",
       "75%    2.032800e+04  1.374581e+09  4.195626e+01 -8.024511e+01  0.000000e+00   \n",
       "max    2.906700e+06  1.388534e+09  6.751027e+01 -6.695090e+01  1.000000e+00   \n",
       "\n",
       "                age         limit  \n",
       "count  1.852394e+06  1.852394e+06  \n",
       "mean   4.621138e+01  7.517911e+03  \n",
       "std    1.739545e+01  3.508104e+03  \n",
       "min    1.400000e+01  5.618875e+01  \n",
       "25%    3.300000e+01  5.245820e+03  \n",
       "50%    4.400000e+01  7.230608e+03  \n",
       "75%    5.700000e+01  9.133270e+03  \n",
       "max    9.600000e+01  1.715292e+04  "
      ]
     },
     "execution_count": 30,
     "metadata": {},
     "output_type": "execute_result"
    }
   ],
   "source": [
    "df.describe()"
   ]
  },
  {
   "cell_type": "code",
   "execution_count": 31,
   "metadata": {
    "colab": {
     "base_uri": "https://localhost:8080/",
     "height": 237
    },
    "id": "BIvpMZSzQUbm",
    "outputId": "93b9d6c2-a953-4eb4-e684-2a92ccf55d99"
   },
   "outputs": [
    {
     "data": {
      "text/html": [
       "<div>\n",
       "<style scoped>\n",
       "    .dataframe tbody tr th:only-of-type {\n",
       "        vertical-align: middle;\n",
       "    }\n",
       "\n",
       "    .dataframe tbody tr th {\n",
       "        vertical-align: top;\n",
       "    }\n",
       "\n",
       "    .dataframe thead th {\n",
       "        text-align: right;\n",
       "    }\n",
       "</style>\n",
       "<table border=\"1\" class=\"dataframe\">\n",
       "  <thead>\n",
       "    <tr style=\"text-align: right;\">\n",
       "      <th>state</th>\n",
       "      <th>AK</th>\n",
       "      <th>AL</th>\n",
       "      <th>AR</th>\n",
       "      <th>AZ</th>\n",
       "      <th>CA</th>\n",
       "      <th>CO</th>\n",
       "      <th>CT</th>\n",
       "      <th>DC</th>\n",
       "      <th>DE</th>\n",
       "      <th>FL</th>\n",
       "      <th>...</th>\n",
       "      <th>SD</th>\n",
       "      <th>TN</th>\n",
       "      <th>TX</th>\n",
       "      <th>UT</th>\n",
       "      <th>VA</th>\n",
       "      <th>VT</th>\n",
       "      <th>WA</th>\n",
       "      <th>WI</th>\n",
       "      <th>WV</th>\n",
       "      <th>WY</th>\n",
       "    </tr>\n",
       "    <tr>\n",
       "      <th>is_fraud</th>\n",
       "      <th></th>\n",
       "      <th></th>\n",
       "      <th></th>\n",
       "      <th></th>\n",
       "      <th></th>\n",
       "      <th></th>\n",
       "      <th></th>\n",
       "      <th></th>\n",
       "      <th></th>\n",
       "      <th></th>\n",
       "      <th></th>\n",
       "      <th></th>\n",
       "      <th></th>\n",
       "      <th></th>\n",
       "      <th></th>\n",
       "      <th></th>\n",
       "      <th></th>\n",
       "      <th></th>\n",
       "      <th></th>\n",
       "      <th></th>\n",
       "      <th></th>\n",
       "    </tr>\n",
       "  </thead>\n",
       "  <tbody>\n",
       "    <tr>\n",
       "      <th>0</th>\n",
       "      <td>2913</td>\n",
       "      <td>58243</td>\n",
       "      <td>44416</td>\n",
       "      <td>15298</td>\n",
       "      <td>80093</td>\n",
       "      <td>19651</td>\n",
       "      <td>10923</td>\n",
       "      <td>5099</td>\n",
       "      <td>0</td>\n",
       "      <td>60441</td>\n",
       "      <td>...</td>\n",
       "      <td>17482</td>\n",
       "      <td>24754</td>\n",
       "      <td>134677</td>\n",
       "      <td>15296</td>\n",
       "      <td>41483</td>\n",
       "      <td>16740</td>\n",
       "      <td>26914</td>\n",
       "      <td>41510</td>\n",
       "      <td>36383</td>\n",
       "      <td>27657</td>\n",
       "    </tr>\n",
       "    <tr>\n",
       "      <th>1</th>\n",
       "      <td>50</td>\n",
       "      <td>278</td>\n",
       "      <td>195</td>\n",
       "      <td>64</td>\n",
       "      <td>402</td>\n",
       "      <td>115</td>\n",
       "      <td>56</td>\n",
       "      <td>31</td>\n",
       "      <td>9</td>\n",
       "      <td>334</td>\n",
       "      <td>...</td>\n",
       "      <td>92</td>\n",
       "      <td>159</td>\n",
       "      <td>592</td>\n",
       "      <td>61</td>\n",
       "      <td>273</td>\n",
       "      <td>72</td>\n",
       "      <td>126</td>\n",
       "      <td>228</td>\n",
       "      <td>146</td>\n",
       "      <td>119</td>\n",
       "    </tr>\n",
       "  </tbody>\n",
       "</table>\n",
       "<p>2 rows × 51 columns</p>\n",
       "</div>"
      ],
      "text/plain": [
       "state       AK     AL     AR     AZ     CA     CO     CT    DC  DE     FL  \\\n",
       "is_fraud                                                                    \n",
       "0         2913  58243  44416  15298  80093  19651  10923  5099   0  60441   \n",
       "1           50    278    195     64    402    115     56    31   9    334   \n",
       "\n",
       "state     ...     SD     TN      TX     UT     VA     VT     WA     WI     WV  \\\n",
       "is_fraud  ...                                                                   \n",
       "0         ...  17482  24754  134677  15296  41483  16740  26914  41510  36383   \n",
       "1         ...     92    159     592     61    273     72    126    228    146   \n",
       "\n",
       "state        WY  \n",
       "is_fraud         \n",
       "0         27657  \n",
       "1           119  \n",
       "\n",
       "[2 rows x 51 columns]"
      ]
     },
     "execution_count": 31,
     "metadata": {},
     "output_type": "execute_result"
    }
   ],
   "source": [
    "\n",
    "pd.crosstab(df[\"is_fraud\"],df[\"state\"]) #State wise division of legit and fraudulent transactions\n"
   ]
  },
  {
   "cell_type": "code",
   "execution_count": 32,
   "metadata": {
    "colab": {
     "base_uri": "https://localhost:8080/",
     "height": 496
    },
    "id": "1OXWct08QUeW",
    "outputId": "5cbb0c53-8dbe-4ff0-fdee-08b5beda0da2"
   },
   "outputs": [
    {
     "data": {
      "text/plain": [
       "<AxesSubplot:xlabel='state', ylabel='count'>"
      ]
     },
     "execution_count": 32,
     "metadata": {},
     "output_type": "execute_result"
    },
    {
     "data": {
      "image/png": "[encoded data removed]",
      "text/plain": [
       "<Figure size 1080x576 with 1 Axes>"
      ]
     },
     "metadata": {
      "needs_background": "light"
     },
     "output_type": "display_data"
    }
   ],
   "source": [
    "\n",
    "plt.figure(figsize=(15,8))\n",
    "sns.countplot(x='state',data=df[df['is_fraud']==1])"
   ]
  },
  {
   "cell_type": "markdown",
   "metadata": {
    "id": "0LHjqdNLTSRT"
   },
   "source": [
    "State:More fradulent transactions occured in NewYork,Texas,Pennsylvania"
   ]
  },
  {
   "cell_type": "code",
   "execution_count": 33,
   "metadata": {
    "id": "5ojdqHgwVUFp"
   },
   "outputs": [],
   "source": [
    "df[\"year\"] = pd.DatetimeIndex(df[\"trans_date_trans_time\"]).year.astype(int).astype(str)\n",
    "df[\"hour\"] = pd.DatetimeIndex(df[\"trans_date_trans_time\"]).hour\n",
    "df[\"month\"] = pd.DatetimeIndex(df[\"trans_date_trans_time\"]).month\n",
    "d = {1:'JAN', 2:'FEB', 3:'MAR', 4:'APR', 5:'MAY', 6:'JUN', 7:'JUL', 8:'AUG', 9:'SEP', 10:'OCT', 11:'NOV', 12:'DEC'}\n",
    "df.month = df.month.map(d)\n",
    "df['dayofweek'] = pd.DatetimeIndex(df[\"trans_date_trans_time\"]).dayofweek+1\n",
    "d1 = {1:'MON',2:'TUE',3:'WED',4:'THU', 5:'FRI',6:'SAT',7:'SUN'}\n",
    "df.dayofweek = df.dayofweek.map(d1)\n",
    "df[\"day\"] = pd.DatetimeIndex(df[\"trans_date_trans_time\"]).day\n"
   ]
  },
  {
   "cell_type": "code",
   "execution_count": 34,
   "metadata": {
    "scrolled": true
   },
   "outputs": [
    {
     "data": {
      "text/plain": [
       "<bound method NDFrame._add_numeric_operations.<locals>.mean of cc_num               month\n",
       "60416207185          APR       9596.67\n",
       "                     AUG      11836.93\n",
       "                     DEC      19043.33\n",
       "                     FEB       4502.72\n",
       "                     JAN       7473.22\n",
       "                                ...   \n",
       "4992346398065154184  MAR      16731.78\n",
       "                     MAY      20987.00\n",
       "                     NOV      17209.44\n",
       "                     OCT      17337.40\n",
       "                     SEP      13637.94\n",
       "Name: amt, Length: 10992, dtype: float64>"
      ]
     },
     "execution_count": 34,
     "metadata": {},
     "output_type": "execute_result"
    }
   ],
   "source": [
    "df.groupby([\"cc_num\",\"month\"])['amt'].sum().mean"
   ]
  },
  {
   "cell_type": "code",
   "execution_count": 35,
   "metadata": {
    "colab": {
     "base_uri": "https://localhost:8080/",
     "height": 143
    },
    "id": "xLOlsYQOYLkI",
    "outputId": "43cc17cd-a947-4225-b4c7-04b9e2850397"
   },
   "outputs": [
    {
     "data": {
      "text/html": [
       "<div>\n",
       "<style scoped>\n",
       "    .dataframe tbody tr th:only-of-type {\n",
       "        vertical-align: middle;\n",
       "    }\n",
       "\n",
       "    .dataframe tbody tr th {\n",
       "        vertical-align: top;\n",
       "    }\n",
       "\n",
       "    .dataframe thead th {\n",
       "        text-align: right;\n",
       "    }\n",
       "</style>\n",
       "<table border=\"1\" class=\"dataframe\">\n",
       "  <thead>\n",
       "    <tr style=\"text-align: right;\">\n",
       "      <th>is_fraud</th>\n",
       "      <th>0</th>\n",
       "      <th>1</th>\n",
       "    </tr>\n",
       "    <tr>\n",
       "      <th>year</th>\n",
       "      <th></th>\n",
       "      <th></th>\n",
       "    </tr>\n",
       "  </thead>\n",
       "  <tbody>\n",
       "    <tr>\n",
       "      <th>2019</th>\n",
       "      <td>919630</td>\n",
       "      <td>5220</td>\n",
       "    </tr>\n",
       "    <tr>\n",
       "      <th>2020</th>\n",
       "      <td>923113</td>\n",
       "      <td>4431</td>\n",
       "    </tr>\n",
       "  </tbody>\n",
       "</table>\n",
       "</div>"
      ],
      "text/plain": [
       "is_fraud       0     1\n",
       "year                  \n",
       "2019      919630  5220\n",
       "2020      923113  4431"
      ]
     },
     "execution_count": 35,
     "metadata": {},
     "output_type": "execute_result"
    }
   ],
   "source": [
    "pd.crosstab(df[\"year\"],df[\"is_fraud\"])"
   ]
  },
  {
   "cell_type": "code",
   "execution_count": 36,
   "metadata": {
    "colab": {
     "base_uri": "https://localhost:8080/",
     "height": 296
    },
    "id": "bMLeK_y-YQgK",
    "outputId": "947c9849-ed2a-4865-b8c7-c05c0c215e37"
   },
   "outputs": [
    {
     "data": {
      "text/plain": [
       "<AxesSubplot:xlabel='year', ylabel='count'>"
      ]
     },
     "execution_count": 36,
     "metadata": {},
     "output_type": "execute_result"
    },
    {
     "data": {
      "image/png": "[encoded data removed]",
      "text/plain": [
       "<Figure size 432x288 with 1 Axes>"
      ]
     },
     "metadata": {
      "needs_background": "light"
     },
     "output_type": "display_data"
    }
   ],
   "source": [
    "sns.countplot(x=\"year\",data=df[df[\"is_fraud\"]==1])"
   ]
  },
  {
   "cell_type": "markdown",
   "metadata": {
    "id": "z_N_wfB6YZUI"
   },
   "source": [
    "Fraudulent Transactions are more in 2019"
   ]
  },
  {
   "cell_type": "code",
   "execution_count": 37,
   "metadata": {
    "colab": {
     "base_uri": "https://localhost:8080/",
     "height": 389
    },
    "id": "J2afiV-jYTSp",
    "outputId": "a4cf859d-8479-4c46-e2dc-752e7c7c063c"
   },
   "outputs": [
    {
     "data": {
      "image/png": "[encoded data removed]",
      "text/plain": [
       "<Figure size 1008x360 with 1 Axes>"
      ]
     },
     "metadata": {
      "needs_background": "light"
     },
     "output_type": "display_data"
    }
   ],
   "source": [
    "plt.figure(figsize=(14,5))\n",
    "fraud=df[df['is_fraud']==1]\n",
    "sns.countplot(fraud[\"hour\"])\n",
    "plt.show()"
   ]
  },
  {
   "cell_type": "markdown",
   "metadata": {
    "id": "y6aUsToGYn2x"
   },
   "source": [
    "fraudulent transcations are more during latenights"
   ]
  },
  {
   "cell_type": "code",
   "execution_count": 38,
   "metadata": {
    "colab": {
     "base_uri": "https://localhost:8080/",
     "height": 300
    },
    "id": "qwh8tCbJYjm4",
    "outputId": "fe096360-66e4-4691-aed2-a1e21e8b40e3"
   },
   "outputs": [
    {
     "data": {
      "text/html": [
       "<div>\n",
       "<style scoped>\n",
       "    .dataframe tbody tr th:only-of-type {\n",
       "        vertical-align: middle;\n",
       "    }\n",
       "\n",
       "    .dataframe tbody tr th {\n",
       "        vertical-align: top;\n",
       "    }\n",
       "\n",
       "    .dataframe thead th {\n",
       "        text-align: right;\n",
       "    }\n",
       "</style>\n",
       "<table border=\"1\" class=\"dataframe\">\n",
       "  <thead>\n",
       "    <tr style=\"text-align: right;\">\n",
       "      <th>is_fraud</th>\n",
       "      <th>0</th>\n",
       "      <th>1</th>\n",
       "    </tr>\n",
       "    <tr>\n",
       "      <th>dayofweek</th>\n",
       "      <th></th>\n",
       "      <th></th>\n",
       "    </tr>\n",
       "  </thead>\n",
       "  <tbody>\n",
       "    <tr>\n",
       "      <th>FRI</th>\n",
       "      <td>213702</td>\n",
       "      <td>1376</td>\n",
       "    </tr>\n",
       "    <tr>\n",
       "      <th>MON</th>\n",
       "      <td>367934</td>\n",
       "      <td>1484</td>\n",
       "    </tr>\n",
       "    <tr>\n",
       "      <th>SAT</th>\n",
       "      <td>261734</td>\n",
       "      <td>1493</td>\n",
       "    </tr>\n",
       "    <tr>\n",
       "      <th>SUN</th>\n",
       "      <td>342087</td>\n",
       "      <td>1590</td>\n",
       "    </tr>\n",
       "    <tr>\n",
       "      <th>THU</th>\n",
       "      <td>205424</td>\n",
       "      <td>1317</td>\n",
       "    </tr>\n",
       "    <tr>\n",
       "      <th>TUE</th>\n",
       "      <td>269074</td>\n",
       "      <td>1266</td>\n",
       "    </tr>\n",
       "    <tr>\n",
       "      <th>WED</th>\n",
       "      <td>182788</td>\n",
       "      <td>1125</td>\n",
       "    </tr>\n",
       "  </tbody>\n",
       "</table>\n",
       "</div>"
      ],
      "text/plain": [
       "is_fraud        0     1\n",
       "dayofweek              \n",
       "FRI        213702  1376\n",
       "MON        367934  1484\n",
       "SAT        261734  1493\n",
       "SUN        342087  1590\n",
       "THU        205424  1317\n",
       "TUE        269074  1266\n",
       "WED        182788  1125"
      ]
     },
     "execution_count": 38,
     "metadata": {},
     "output_type": "execute_result"
    }
   ],
   "source": [
    "pd.crosstab(df[\"dayofweek\"],df[\"is_fraud\"])"
   ]
  },
  {
   "cell_type": "code",
   "execution_count": 39,
   "metadata": {
    "colab": {
     "base_uri": "https://localhost:8080/",
     "height": 389
    },
    "id": "2DU7Vxr3Y3ex",
    "outputId": "4a548d40-235f-42a3-bf7e-77749172abc6"
   },
   "outputs": [
    {
     "data": {
      "image/png": "[encoded data removed]",
      "text/plain": [
       "<Figure size 1008x360 with 1 Axes>"
      ]
     },
     "metadata": {
      "needs_background": "light"
     },
     "output_type": "display_data"
    }
   ],
   "source": [
    "plt.figure(figsize=(14,5))\n",
    "fraud=df[df['is_fraud']==1]\n",
    "sns.countplot(fraud[\"dayofweek\"])\n",
    "\n",
    "plt.show()"
   ]
  },
  {
   "cell_type": "markdown",
   "metadata": {
    "id": "fA4hDabPY9VL"
   },
   "source": [
    "Comparitively frauds are happening more in saturday, sunday and monday"
   ]
  },
  {
   "cell_type": "code",
   "execution_count": 40,
   "metadata": {
    "colab": {
     "base_uri": "https://localhost:8080/",
     "height": 457
    },
    "id": "px2LpNaeY5qQ",
    "outputId": "7b1dc1dc-5917-4b92-9865-3f5abe2476bb"
   },
   "outputs": [
    {
     "data": {
      "text/html": [
       "<div>\n",
       "<style scoped>\n",
       "    .dataframe tbody tr th:only-of-type {\n",
       "        vertical-align: middle;\n",
       "    }\n",
       "\n",
       "    .dataframe tbody tr th {\n",
       "        vertical-align: top;\n",
       "    }\n",
       "\n",
       "    .dataframe thead th {\n",
       "        text-align: right;\n",
       "    }\n",
       "</style>\n",
       "<table border=\"1\" class=\"dataframe\">\n",
       "  <thead>\n",
       "    <tr style=\"text-align: right;\">\n",
       "      <th>is_fraud</th>\n",
       "      <th>0</th>\n",
       "      <th>1</th>\n",
       "    </tr>\n",
       "    <tr>\n",
       "      <th>month</th>\n",
       "      <th></th>\n",
       "      <th></th>\n",
       "    </tr>\n",
       "  </thead>\n",
       "  <tbody>\n",
       "    <tr>\n",
       "      <th>APR</th>\n",
       "      <td>134292</td>\n",
       "      <td>678</td>\n",
       "    </tr>\n",
       "    <tr>\n",
       "      <th>AUG</th>\n",
       "      <td>175321</td>\n",
       "      <td>797</td>\n",
       "    </tr>\n",
       "    <tr>\n",
       "      <th>DEC</th>\n",
       "      <td>279748</td>\n",
       "      <td>850</td>\n",
       "    </tr>\n",
       "    <tr>\n",
       "      <th>FEB</th>\n",
       "      <td>96804</td>\n",
       "      <td>853</td>\n",
       "    </tr>\n",
       "    <tr>\n",
       "      <th>JAN</th>\n",
       "      <td>103878</td>\n",
       "      <td>849</td>\n",
       "    </tr>\n",
       "    <tr>\n",
       "      <th>JUL</th>\n",
       "      <td>171792</td>\n",
       "      <td>652</td>\n",
       "    </tr>\n",
       "    <tr>\n",
       "      <th>JUN</th>\n",
       "      <td>173048</td>\n",
       "      <td>821</td>\n",
       "    </tr>\n",
       "    <tr>\n",
       "      <th>MAR</th>\n",
       "      <td>142851</td>\n",
       "      <td>938</td>\n",
       "    </tr>\n",
       "    <tr>\n",
       "      <th>MAY</th>\n",
       "      <td>145940</td>\n",
       "      <td>935</td>\n",
       "    </tr>\n",
       "    <tr>\n",
       "      <th>NOV</th>\n",
       "      <td>142374</td>\n",
       "      <td>682</td>\n",
       "    </tr>\n",
       "    <tr>\n",
       "      <th>OCT</th>\n",
       "      <td>137268</td>\n",
       "      <td>838</td>\n",
       "    </tr>\n",
       "    <tr>\n",
       "      <th>SEP</th>\n",
       "      <td>139427</td>\n",
       "      <td>758</td>\n",
       "    </tr>\n",
       "  </tbody>\n",
       "</table>\n",
       "</div>"
      ],
      "text/plain": [
       "is_fraud       0    1\n",
       "month                \n",
       "APR       134292  678\n",
       "AUG       175321  797\n",
       "DEC       279748  850\n",
       "FEB        96804  853\n",
       "JAN       103878  849\n",
       "JUL       171792  652\n",
       "JUN       173048  821\n",
       "MAR       142851  938\n",
       "MAY       145940  935\n",
       "NOV       142374  682\n",
       "OCT       137268  838\n",
       "SEP       139427  758"
      ]
     },
     "execution_count": 40,
     "metadata": {},
     "output_type": "execute_result"
    }
   ],
   "source": [
    "pd.crosstab(df[\"month\"],df[\"is_fraud\"])"
   ]
  },
  {
   "cell_type": "code",
   "execution_count": 41,
   "metadata": {
    "colab": {
     "base_uri": "https://localhost:8080/",
     "height": 389
    },
    "id": "0882RU7iZAZ4",
    "outputId": "a7d4ec95-c960-4858-bc36-d7cb21786f14"
   },
   "outputs": [
    {
     "data": {
      "image/png": "[encoded data removed]",
      "text/plain": [
       "<Figure size 1008x360 with 1 Axes>"
      ]
     },
     "metadata": {
      "needs_background": "light"
     },
     "output_type": "display_data"
    }
   ],
   "source": [
    "plt.figure(figsize=(14,5))\n",
    "fraud=df[df['is_fraud']==1]\n",
    "sns.countplot(fraud[\"month\"])\n",
    "plt.show()"
   ]
  },
  {
   "cell_type": "code",
   "execution_count": 42,
   "metadata": {
    "colab": {
     "base_uri": "https://localhost:8080/",
     "height": 334
    },
    "id": "kpCzV27_ZG7F",
    "outputId": "f6d9f581-e721-45a4-fe20-2a5aa873120e"
   },
   "outputs": [
    {
     "data": {
      "image/png": "[encoded data removed]",
      "text/plain": [
       "<Figure size 432x288 with 1 Axes>"
      ]
     },
     "metadata": {
      "needs_background": "light"
     },
     "output_type": "display_data"
    }
   ],
   "source": [
    "fraud=df[df['is_fraud']==1]\n",
    "sns.boxplot(fraud['day'])\n",
    "plt.show()"
   ]
  },
  {
   "cell_type": "code",
   "execution_count": 43,
   "metadata": {
    "colab": {
     "base_uri": "https://localhost:8080/",
     "height": 52
    },
    "id": "vNZmmTNOZOO5",
    "outputId": "a7a2e908-5736-48d6-c74d-589821ff8fc1"
   },
   "outputs": [
    {
     "data": {
      "text/plain": [
       "'we can work with cities through their population parameter, as names of citiescannot implement whether a fraud will be done or not, while\\npopulation of a city can.'"
      ]
     },
     "execution_count": 43,
     "metadata": {},
     "output_type": "execute_result"
    }
   ],
   "source": [
    "df.loc[(df['city_pop'] < 10000), ['pop_dense']] = \"Less Dense\"\n",
    "df.loc[((df['city_pop'] > 10000) & (df['city_pop'] < 50000)), \n",
    "       [\"pop_dense\"]] = \"Moderate Dense\"\n",
    "df.loc[(df['city_pop'] > 50000), ['pop_dense']] = \"More Dense\"\n",
    "\n",
    "df = df.drop(\"city_pop\", axis = 1)\n",
    "df.pop_dense.value_counts(normalize = True)          \n",
    "'''we can work with cities through their population parameter, as names of citiescannot implement whether a fraud will be done or not, while\n",
    "population of a city can.'''"
   ]
  },
  {
   "cell_type": "code",
   "execution_count": 44,
   "metadata": {
    "colab": {
     "base_uri": "https://localhost:8080/",
     "height": 335
    },
    "id": "wZSp7v0sZh1y",
    "outputId": "371775a7-e135-45c3-8968-f8fae823aedc"
   },
   "outputs": [
    {
     "data": {
      "image/png": "[encoded data removed]",
      "text/plain": [
       "<Figure size 432x288 with 1 Axes>"
      ]
     },
     "metadata": {
      "needs_background": "light"
     },
     "output_type": "display_data"
    }
   ],
   "source": [
    "fraud=df[df['is_fraud']==1]\n",
    "sns.countplot(fraud[\"pop_dense\"])\n",
    "plt.show()"
   ]
  },
  {
   "cell_type": "markdown",
   "metadata": {
    "id": "4KvjwHTHZoMt"
   },
   "source": [
    "Frauds are happening more in less dense areas."
   ]
  },
  {
   "cell_type": "code",
   "execution_count": 45,
   "metadata": {
    "colab": {
     "base_uri": "https://localhost:8080/",
     "height": 502
    },
    "id": "UdDLEugbZlGP",
    "outputId": "d7b28f6e-d9d9-490b-bf0a-be5a70f8463c"
   },
   "outputs": [
    {
     "data": {
      "image/png": "[encoded data removed]",
      "text/plain": [
       "<Figure size 1296x648 with 1 Axes>"
      ]
     },
     "metadata": {
      "needs_background": "light"
     },
     "output_type": "display_data"
    }
   ],
   "source": [
    "plt.figure(figsize=(18,9))\n",
    "fraud=df[df['is_fraud']==1]\n",
    "sns.countplot(fraud[\"category\"])\n",
    "plt.show()"
   ]
  },
  {
   "cell_type": "markdown",
   "metadata": {
    "id": "npzNY4E0Z3F_"
   },
   "source": [
    "Fraudulent transactions are more for purchases in grocery and shopping stores."
   ]
  },
  {
   "cell_type": "code",
   "execution_count": 46,
   "metadata": {},
   "outputs": [
    {
     "data": {
      "text/plain": [
       "497"
      ]
     },
     "execution_count": 46,
     "metadata": {},
     "output_type": "execute_result"
    }
   ],
   "source": [
    "df[\"job\"].nunique()"
   ]
  },
  {
   "cell_type": "code",
   "execution_count": 47,
   "metadata": {},
   "outputs": [
    {
     "data": {
      "text/plain": [
       "Quantity surveyor                        69\n",
       "Naval architect                          66\n",
       "Materials engineer                       62\n",
       "Audiological scientist                   58\n",
       "Senior tax professional/tax inspector    57\n",
       "                                         ..\n",
       "Corporate investment banker               4\n",
       "Pension scheme manager                    4\n",
       "Statistician                              3\n",
       "Health physicist                          3\n",
       "Contractor                                2\n",
       "Name: job, Length: 494, dtype: int64"
      ]
     },
     "execution_count": 47,
     "metadata": {},
     "output_type": "execute_result"
    }
   ],
   "source": [
    "fraud[\"job\"].value_counts()"
   ]
  },
  {
   "cell_type": "code",
   "execution_count": 48,
   "metadata": {
    "colab": {
     "base_uri": "https://localhost:8080/",
     "height": 577
    },
    "id": "Vd1VKW4aZtov",
    "outputId": "2b789ee4-361f-4180-c3d6-09d297951c5e"
   },
   "outputs": [
    {
     "data": {
      "text/html": [
       "<div>\n",
       "<style scoped>\n",
       "    .dataframe tbody tr th:only-of-type {\n",
       "        vertical-align: middle;\n",
       "    }\n",
       "\n",
       "    .dataframe tbody tr th {\n",
       "        vertical-align: top;\n",
       "    }\n",
       "\n",
       "    .dataframe thead th {\n",
       "        text-align: right;\n",
       "    }\n",
       "</style>\n",
       "<table border=\"1\" class=\"dataframe\">\n",
       "  <thead>\n",
       "    <tr style=\"text-align: right;\">\n",
       "      <th></th>\n",
       "      <th>trans_date_trans_time</th>\n",
       "      <th>cc_num</th>\n",
       "      <th>merchant</th>\n",
       "      <th>category</th>\n",
       "      <th>amt</th>\n",
       "      <th>first</th>\n",
       "      <th>last</th>\n",
       "      <th>gender</th>\n",
       "      <th>street</th>\n",
       "      <th>city</th>\n",
       "      <th>...</th>\n",
       "      <th>limit</th>\n",
       "      <th>year</th>\n",
       "      <th>hour</th>\n",
       "      <th>month</th>\n",
       "      <th>dayofweek</th>\n",
       "      <th>day</th>\n",
       "      <th>pop_dense</th>\n",
       "      <th>lat_diff</th>\n",
       "      <th>long_diff</th>\n",
       "      <th>displacement</th>\n",
       "    </tr>\n",
       "  </thead>\n",
       "  <tbody>\n",
       "    <tr>\n",
       "      <th>0</th>\n",
       "      <td>2019-01-01 00:00:18</td>\n",
       "      <td>2703186189652095</td>\n",
       "      <td>fraud_Rippin, Kub and Mann</td>\n",
       "      <td>misc_net</td>\n",
       "      <td>4.97</td>\n",
       "      <td>Jennifer</td>\n",
       "      <td>Banks</td>\n",
       "      <td>F</td>\n",
       "      <td>561 Perry Cove</td>\n",
       "      <td>Moravian Falls</td>\n",
       "      <td>...</td>\n",
       "      <td>10904.141250</td>\n",
       "      <td>2019</td>\n",
       "      <td>0</td>\n",
       "      <td>JAN</td>\n",
       "      <td>TUE</td>\n",
       "      <td>1</td>\n",
       "      <td>Less Dense</td>\n",
       "      <td>0.067507</td>\n",
       "      <td>0.870215</td>\n",
       "      <td>96.011245</td>\n",
       "    </tr>\n",
       "    <tr>\n",
       "      <th>1</th>\n",
       "      <td>2019-01-01 00:00:44</td>\n",
       "      <td>630423337322</td>\n",
       "      <td>fraud_Heller, Gutmann and Zieme</td>\n",
       "      <td>grocery_pos</td>\n",
       "      <td>107.23</td>\n",
       "      <td>Stephanie</td>\n",
       "      <td>Gill</td>\n",
       "      <td>F</td>\n",
       "      <td>43039 Riley Greens Suite 393</td>\n",
       "      <td>Orient</td>\n",
       "      <td>...</td>\n",
       "      <td>10192.197083</td>\n",
       "      <td>2019</td>\n",
       "      <td>0</td>\n",
       "      <td>JAN</td>\n",
       "      <td>TUE</td>\n",
       "      <td>1</td>\n",
       "      <td>Less Dense</td>\n",
       "      <td>0.271247</td>\n",
       "      <td>0.024038</td>\n",
       "      <td>29.954105</td>\n",
       "    </tr>\n",
       "    <tr>\n",
       "      <th>2</th>\n",
       "      <td>2019-01-01 00:00:51</td>\n",
       "      <td>38859492057661</td>\n",
       "      <td>fraud_Lind-Buckridge</td>\n",
       "      <td>entertainment</td>\n",
       "      <td>220.11</td>\n",
       "      <td>Edward</td>\n",
       "      <td>Sanchez</td>\n",
       "      <td>M</td>\n",
       "      <td>594 White Dale Suite 530</td>\n",
       "      <td>Malad City</td>\n",
       "      <td>...</td>\n",
       "      <td>2141.430833</td>\n",
       "      <td>2019</td>\n",
       "      <td>0</td>\n",
       "      <td>JAN</td>\n",
       "      <td>TUE</td>\n",
       "      <td>1</td>\n",
       "      <td>Less Dense</td>\n",
       "      <td>0.969904</td>\n",
       "      <td>0.107519</td>\n",
       "      <td>107.342986</td>\n",
       "    </tr>\n",
       "    <tr>\n",
       "      <th>3</th>\n",
       "      <td>2019-01-01 00:01:16</td>\n",
       "      <td>3534093764340240</td>\n",
       "      <td>fraud_Kutch, Hermiston and Farrell</td>\n",
       "      <td>gas_transport</td>\n",
       "      <td>45.00</td>\n",
       "      <td>Jeremy</td>\n",
       "      <td>White</td>\n",
       "      <td>M</td>\n",
       "      <td>9443 Cynthia Court Apt. 038</td>\n",
       "      <td>Boulder</td>\n",
       "      <td>...</td>\n",
       "      <td>2479.454167</td>\n",
       "      <td>2019</td>\n",
       "      <td>0</td>\n",
       "      <td>JAN</td>\n",
       "      <td>TUE</td>\n",
       "      <td>1</td>\n",
       "      <td>Less Dense</td>\n",
       "      <td>0.803731</td>\n",
       "      <td>0.447271</td>\n",
       "      <td>101.178169</td>\n",
       "    </tr>\n",
       "    <tr>\n",
       "      <th>4</th>\n",
       "      <td>2019-01-01 00:03:06</td>\n",
       "      <td>375534208663984</td>\n",
       "      <td>fraud_Keeling-Crist</td>\n",
       "      <td>misc_pos</td>\n",
       "      <td>41.96</td>\n",
       "      <td>Tyler</td>\n",
       "      <td>Garcia</td>\n",
       "      <td>M</td>\n",
       "      <td>408 Bradley Rest</td>\n",
       "      <td>Doe Hill</td>\n",
       "      <td>...</td>\n",
       "      <td>11607.784583</td>\n",
       "      <td>2019</td>\n",
       "      <td>0</td>\n",
       "      <td>JAN</td>\n",
       "      <td>TUE</td>\n",
       "      <td>1</td>\n",
       "      <td>Less Dense</td>\n",
       "      <td>0.254299</td>\n",
       "      <td>0.830441</td>\n",
       "      <td>95.535506</td>\n",
       "    </tr>\n",
       "  </tbody>\n",
       "</table>\n",
       "<p>5 rows × 33 columns</p>\n",
       "</div>"
      ],
      "text/plain": [
       "  trans_date_trans_time            cc_num                            merchant  \\\n",
       "0   2019-01-01 00:00:18  2703186189652095          fraud_Rippin, Kub and Mann   \n",
       "1   2019-01-01 00:00:44      630423337322     fraud_Heller, Gutmann and Zieme   \n",
       "2   2019-01-01 00:00:51    38859492057661                fraud_Lind-Buckridge   \n",
       "3   2019-01-01 00:01:16  3534093764340240  fraud_Kutch, Hermiston and Farrell   \n",
       "4   2019-01-01 00:03:06   375534208663984                 fraud_Keeling-Crist   \n",
       "\n",
       "        category     amt      first     last gender  \\\n",
       "0       misc_net    4.97   Jennifer    Banks      F   \n",
       "1    grocery_pos  107.23  Stephanie     Gill      F   \n",
       "2  entertainment  220.11     Edward  Sanchez      M   \n",
       "3  gas_transport   45.00     Jeremy    White      M   \n",
       "4       misc_pos   41.96      Tyler   Garcia      M   \n",
       "\n",
       "                         street            city  ...         limit  year  \\\n",
       "0                561 Perry Cove  Moravian Falls  ...  10904.141250  2019   \n",
       "1  43039 Riley Greens Suite 393          Orient  ...  10192.197083  2019   \n",
       "2      594 White Dale Suite 530      Malad City  ...   2141.430833  2019   \n",
       "3   9443 Cynthia Court Apt. 038         Boulder  ...   2479.454167  2019   \n",
       "4              408 Bradley Rest        Doe Hill  ...  11607.784583  2019   \n",
       "\n",
       "   hour  month dayofweek day   pop_dense  lat_diff  long_diff  displacement  \n",
       "0     0    JAN       TUE   1  Less Dense  0.067507   0.870215     96.011245  \n",
       "1     0    JAN       TUE   1  Less Dense  0.271247   0.024038     29.954105  \n",
       "2     0    JAN       TUE   1  Less Dense  0.969904   0.107519    107.342986  \n",
       "3     0    JAN       TUE   1  Less Dense  0.803731   0.447271    101.178169  \n",
       "4     0    JAN       TUE   1  Less Dense  0.254299   0.830441     95.535506  \n",
       "\n",
       "[5 rows x 33 columns]"
      ]
     },
     "execution_count": 48,
     "metadata": {},
     "output_type": "execute_result"
    }
   ],
   "source": [
    "\n",
    "''' sometimes distance from the customer's home location to the merchant's \n",
    "location can prove out to be main reason for fraud, so taking the \n",
    "#difference of longitude and lattitude of respective columns'''\n",
    "\n",
    "df[\"lat_diff\"] = abs(df[\"lat\"] - df[\"merch_lat\"])                           #1 degree = 110 kms\n",
    "df[\"long_diff\"] = abs(df[\"long\"] - df[\"merch_long\"]) \n",
    "\n",
    "''' it will be difficult to calculate distance between merchant's location\n",
    " or customer's location so applying pythogoras theorem'''   \n",
    "\n",
    "df['displacement'] = np.sqrt(pow((df['lat_diff']*110),2) + pow((df['long_diff']*110),2))\n",
    "df.head()"
   ]
  },
  {
   "cell_type": "code",
   "execution_count": null,
   "metadata": {
    "id": "a9NM9Iplct-z"
   },
   "outputs": [],
   "source": [
    "# Now since we got the displacement so longitudes and lattitudes columns are of no use now, so we can remove them\n",
    "# df = df.drop(columns = [\"lat\",\"long\",\"merch_lat\",\"merch_long\",\"lat_diff\",\"long_diff\"])"
   ]
  },
  {
   "cell_type": "code",
   "execution_count": 49,
   "metadata": {
    "colab": {
     "base_uri": "https://localhost:8080/"
    },
    "id": "Tdf_vHs1Z9P8",
    "outputId": "d6435ce2-6fe3-4c8c-9967-1f98b38d6b24"
   },
   "outputs": [
    {
     "data": {
      "text/plain": [
       "count    1852394.00\n",
       "mean          84.22\n",
       "std           31.32\n",
       "min            0.03\n",
       "25%           62.13\n",
       "50%           87.81\n",
       "75%          107.51\n",
       "max          155.47\n",
       "Name: displacement, dtype: float64"
      ]
     },
     "execution_count": 49,
     "metadata": {},
     "output_type": "execute_result"
    }
   ],
   "source": [
    "np.round(df[\"displacement\"].describe(),2)"
   ]
  },
  {
   "cell_type": "code",
   "execution_count": 50,
   "metadata": {
    "colab": {
     "base_uri": "https://localhost:8080/"
    },
    "id": "ZN07V-MDaBz6",
    "outputId": "5bc97022-dc1a-4814-cdbf-028f20db50e5"
   },
   "outputs": [
    {
     "data": {
      "text/plain": [
       "Far         0.486722\n",
       "Very Far    0.351177\n",
       "Closeby     0.162102\n",
       "Name: location, dtype: float64"
      ]
     },
     "execution_count": 50,
     "metadata": {},
     "output_type": "execute_result"
    }
   ],
   "source": [
    "df.loc[(df['displacement'] < 50), ['location']] = \"Closeby\"\n",
    "df.loc[((df['displacement'] >= 50) & (df['displacement'] <= 100)),['location']] = \"Far\"\n",
    "df.loc[(df['displacement'] > 100), ['location']] = \"Very Far\"\n",
    "df.location.value_counts(normalize = True)"
   ]
  },
  {
   "cell_type": "code",
   "execution_count": 51,
   "metadata": {
    "colab": {
     "base_uri": "https://localhost:8080/",
     "height": 389
    },
    "id": "ZjYC68a3aB2x",
    "outputId": "20d09d99-aa63-41a0-9f29-a3443d304d35"
   },
   "outputs": [
    {
     "data": {
      "image/png": "[encoded data removed]",
      "text/plain": [
       "<Figure size 1008x360 with 1 Axes>"
      ]
     },
     "metadata": {
      "needs_background": "light"
     },
     "output_type": "display_data"
    }
   ],
   "source": [
    "plt.figure(figsize=(14,5))\n",
    "fraud=df[df['is_fraud']==1]\n",
    "sns.countplot(fraud[\"location\"])\n",
    "plt.show()"
   ]
  },
  {
   "cell_type": "code",
   "execution_count": 52,
   "metadata": {
    "colab": {
     "base_uri": "https://localhost:8080/"
    },
    "id": "9t8mwvG3aB77",
    "outputId": "4e9c6c52-4d58-46c7-97e9-7bc749575b16"
   },
   "outputs": [
    {
     "data": {
      "text/plain": [
       "6538441737335434    4392\n",
       "30270432095985      4392\n",
       "6538891242532018    4386\n",
       "4364010865167176    4386\n",
       "4642255475285942    4386\n",
       "                    ... \n",
       "4225628813173670       7\n",
       "340187018810220        7\n",
       "6011732631674654       7\n",
       "4734310647841293       7\n",
       "4295296907373          6\n",
       "Name: cc_num, Length: 999, dtype: int64"
      ]
     },
     "execution_count": 52,
     "metadata": {},
     "output_type": "execute_result"
    }
   ],
   "source": [
    "# checking cc_num columns\n",
    "\n",
    "df.cc_num.value_counts()"
   ]
  },
  {
   "cell_type": "code",
   "execution_count": 53,
   "metadata": {
    "colab": {
     "base_uri": "https://localhost:8080/"
    },
    "id": "3yFzRJFhaB-m",
    "outputId": "3e148008-444a-4775-98fa-ccda182b0c1b"
   },
   "outputs": [
    {
     "data": {
      "text/plain": [
       "3520550088202337       19\n",
       "4599285557366057       19\n",
       "4593569795412          19\n",
       "4260128500325          18\n",
       "6538441737335434       18\n",
       "                       ..\n",
       "4514242065619750        2\n",
       "4089096483689733451     2\n",
       "4503101193493052864     2\n",
       "6011893664860915        2\n",
       "3518234918950662        2\n",
       "Name: cc_num, Length: 976, dtype: int64"
      ]
     },
     "execution_count": 53,
     "metadata": {},
     "output_type": "execute_result"
    }
   ],
   "source": [
    "fraud['cc_num'].value_counts()\n"
   ]
  },
  {
   "cell_type": "code",
   "execution_count": 54,
   "metadata": {},
   "outputs": [],
   "source": [
    "df[\"recency\"] = df.groupby(by=\"cc_num\")[\"unix_time\"].diff()"
   ]
  },
  {
   "cell_type": "code",
   "execution_count": 55,
   "metadata": {
    "colab": {
     "base_uri": "https://localhost:8080/"
    },
    "id": "zFmdQ7lFiIVd",
    "outputId": "50bebb13-61e3-4935-d058-ac98e3625b54"
   },
   "outputs": [
    {
     "data": {
      "text/plain": [
       "999"
      ]
     },
     "execution_count": 55,
     "metadata": {},
     "output_type": "execute_result"
    }
   ],
   "source": [
    "df['cc_num'].nunique()"
   ]
  },
  {
   "cell_type": "code",
   "execution_count": 56,
   "metadata": {},
   "outputs": [],
   "source": [
    "df.loc[df.recency.isnull(),[\"recency\"]] = -1"
   ]
  },
  {
   "cell_type": "code",
   "execution_count": 57,
   "metadata": {
    "colab": {
     "base_uri": "https://localhost:8080/"
    },
    "id": "mDm7JY2FMxw4",
    "outputId": "1e136adf-4483-458d-aa8c-8472193c8cdc"
   },
   "outputs": [
    {
     "data": {
      "text/plain": [
       "trans_date_trans_time    0\n",
       "cc_num                   0\n",
       "merchant                 0\n",
       "category                 0\n",
       "amt                      0\n",
       "first                    0\n",
       "last                     0\n",
       "gender                   0\n",
       "street                   0\n",
       "city                     0\n",
       "state                    0\n",
       "zip                      0\n",
       "lat                      0\n",
       "long                     0\n",
       "job                      0\n",
       "dob                      0\n",
       "trans_num                0\n",
       "unix_time                0\n",
       "merch_lat                0\n",
       "merch_long               0\n",
       "is_fraud                 0\n",
       "age                      0\n",
       "age_group                0\n",
       "limit                    0\n",
       "year                     0\n",
       "hour                     0\n",
       "month                    0\n",
       "dayofweek                0\n",
       "day                      0\n",
       "pop_dense                0\n",
       "lat_diff                 0\n",
       "long_diff                0\n",
       "displacement             0\n",
       "location                 0\n",
       "recency                  0\n",
       "dtype: int64"
      ]
     },
     "execution_count": 57,
     "metadata": {},
     "output_type": "execute_result"
    }
   ],
   "source": [
    "df.isnull().sum() #Checking out null values"
   ]
  },
  {
   "cell_type": "code",
   "execution_count": 58,
   "metadata": {},
   "outputs": [
    {
     "data": {
      "text/plain": [
       "0   -1.0\n",
       "1   -1.0\n",
       "2   -1.0\n",
       "3   -1.0\n",
       "4   -1.0\n",
       "Name: recency, dtype: float64"
      ]
     },
     "execution_count": 58,
     "metadata": {},
     "output_type": "execute_result"
    }
   ],
   "source": [
    "df[\"recency\"].head()"
   ]
  },
  {
   "cell_type": "code",
   "execution_count": 59,
   "metadata": {},
   "outputs": [
    {
     "data": {
      "text/plain": [
       "Within 6 hours        0.419884\n",
       "After 6 hours         0.188908\n",
       "Recent_Transaction    0.171574\n",
       "After Half-Day        0.142416\n",
       "After 24 hours        0.076679\n",
       "First Transaction     0.000539\n",
       "Name: recency_segment, dtype: float64"
      ]
     },
     "execution_count": 59,
     "metadata": {},
     "output_type": "execute_result"
    }
   ],
   "source": [
    "# dividing recency to segments based on number of hours passed\n",
    "df.recency = df.recency.apply(lambda x: float((x/60)/60))\n",
    "df.loc[(df[\"recency\"]<1),[\"recency_segment\"]] = \"Recent_Transaction\"\n",
    "df.loc[((df[\"recency\"]>1) & (df[\"recency\"]<6)),[\"recency_segment\"]] = \"Within 6 hours\"\n",
    "df.loc[((df[\"recency\"]>6) & (df[\"recency\"]<12)),[\"recency_segment\"]] = \"After 6 hours\"\n",
    "df.loc[((df[\"recency\"]>12) & (df[\"recency\"]<24)),[\"recency_segment\"]] = \"After Half-Day\"\n",
    "df.loc[(df[\"recency\"]>24),[\"recency_segment\"]] = \"After 24 hours\"\n",
    "df.loc[(df[\"recency\"]<0),[\"recency_segment\"]] = \"First Transaction\"\n",
    "df.recency_segment.value_counts(normalize = True)"
   ]
  },
  {
   "cell_type": "code",
   "execution_count": 60,
   "metadata": {},
   "outputs": [
    {
     "data": {
      "image/png": "[encoded data removed]",
      "text/plain": [
       "<Figure size 432x288 with 1 Axes>"
      ]
     },
     "metadata": {
      "needs_background": "light"
     },
     "output_type": "display_data"
    }
   ],
   "source": [
    "# checking fraud transactions based on recency\n",
    "fraud = df[df[\"is_fraud\"]==1]\n",
    "sns.countplot(y=fraud.recency_segment)\n",
    "plt.show()"
   ]
  },
  {
   "cell_type": "code",
   "execution_count": 61,
   "metadata": {},
   "outputs": [
    {
     "data": {
      "image/png": "[encoded data removed]",
      "text/plain": [
       "<Figure size 432x288 with 1 Axes>"
      ]
     },
     "metadata": {
      "needs_background": "light"
     },
     "output_type": "display_data"
    }
   ],
   "source": [
    "\n",
    "sns.countplot(y=df.recency_segment)\n",
    "plt.show()"
   ]
  },
  {
   "cell_type": "markdown",
   "metadata": {
    "id": "Twx3p_UTraen"
   },
   "source": [
    "**Bi-Variate Analysis**"
   ]
  },
  {
   "cell_type": "code",
   "execution_count": 62,
   "metadata": {
    "colab": {
     "base_uri": "https://localhost:8080/",
     "height": 424
    },
    "id": "5rVEKBqFaCEM",
    "outputId": "56cc6a99-60f5-40f4-acfb-fbbe321bfdee"
   },
   "outputs": [
    {
     "data": {
      "image/png": "[encoded data removed]",
      "text/plain": [
       "<Figure size 407.75x360 with 1 Axes>"
      ]
     },
     "metadata": {
      "needs_background": "light"
     },
     "output_type": "display_data"
    }
   ],
   "source": [
    "sns.FacetGrid(df,hue=\"is_fraud\",size=5).map(plt.scatter,\"gender\",\"amt\").add_legend();\n",
    "plt.show()"
   ]
  },
  {
   "cell_type": "code",
   "execution_count": 63,
   "metadata": {
    "colab": {
     "base_uri": "https://localhost:8080/",
     "height": 896
    },
    "id": "eimTqnl8aCHZ",
    "outputId": "ffdab357-1fe7-478f-f4c9-a57fba5f5ef0"
   },
   "outputs": [
    {
     "data": {
      "image/png": "[encoded data removed]",
      "text/plain": [
       "<Figure size 1487.75x1440 with 1 Axes>"
      ]
     },
     "metadata": {
      "needs_background": "light"
     },
     "output_type": "display_data"
    }
   ],
   "source": [
    "sns.FacetGrid(df,hue=\"is_fraud\",size=20).map(plt.scatter,\"state\",\"amt\").add_legend();\n",
    "plt.show()"
   ]
  },
  {
   "cell_type": "code",
   "execution_count": 64,
   "metadata": {
    "colab": {
     "base_uri": "https://localhost:8080/",
     "height": 887
    },
    "id": "LrSBFo98aCJp",
    "outputId": "df6e3de7-947f-44cb-85b3-64b8ab35eaa5"
   },
   "outputs": [
    {
     "data": {
      "image/png": "[encoded data removed]",
      "text/plain": [
       "<Figure size 1127.75x1080 with 1 Axes>"
      ]
     },
     "metadata": {
      "needs_background": "light"
     },
     "output_type": "display_data"
    }
   ],
   "source": [
    "sns.FacetGrid(df,hue=\"is_fraud\",size=15).map(plt.scatter,\"category\",\"amt\").add_legend();\n",
    "plt.show()"
   ]
  },
  {
   "cell_type": "markdown",
   "metadata": {
    "id": "-D-UBpvOrg-u"
   },
   "source": [
    "**Multi-Variate Analysis**"
   ]
  },
  {
   "cell_type": "code",
   "execution_count": null,
   "metadata": {
    "colab": {
     "base_uri": "https://localhost:8080/",
     "height": 782
    },
    "id": "en1oVGZxr2Pa",
    "outputId": "7f69ec57-888b-412a-be4e-90769ebb7923"
   },
   "outputs": [],
   "source": [
    "sns.pairplot(df,hue=\"is_fraud\",size=5)"
   ]
  },
  {
   "cell_type": "markdown",
   "metadata": {
    "id": "K2mNJc5asR-B"
   },
   "source": [
    "# **TESTING OF** **HYPOTHESIS**"
   ]
  },
  {
   "cell_type": "code",
   "execution_count": null,
   "metadata": {
    "id": "wUkN6szGsco6"
   },
   "outputs": [],
   "source": []
  },
  {
   "cell_type": "code",
   "execution_count": null,
   "metadata": {
    "id": "8aBesU2Msc97"
   },
   "outputs": [],
   "source": [
    "#T TEST:\n",
    "# Null hypothesis(H0):The average amount of fraudulent transaction is $400\n",
    "# Alternative hypothesis(H1):The average amount of fraudulent transaction is not $400"
   ]
  },
  {
   "cell_type": "code",
   "execution_count": null,
   "metadata": {
    "colab": {
     "base_uri": "https://localhost:8080/"
    },
    "id": "D7GaCZagsrR_",
    "outputId": "57b0d546-d77e-4cb1-f2b6-561365580338"
   },
   "outputs": [],
   "source": [
    "amt_mean = np.mean(fraud[\"amt\"])\n",
    "print(\"Mean is: \",amt_mean)\n",
    "tset, pval = ttest_1samp(fraud[\"amt\"], 400)\n",
    "if pval < 0.05:    # alpha value is 0.05 or 5%\n",
    "   print(\"Null Hypothesis is rejected.The average amount of fraudulent transaction is not $400\")\n",
    "else:\n",
    "  print(\"Null Hypothesis is accepted.The average amount of fraudulent transaction is $400\")"
   ]
  },
  {
   "cell_type": "code",
   "execution_count": null,
   "metadata": {
    "id": "B54G8X1rsrUv"
   },
   "outputs": [],
   "source": [
    "#CHI-SQUARE:\n",
    "#  Null Hypothesis(H0): There is no significant relationship between the fraudulent transactions of state and population.\n",
    "#  Alternative hypothesis(H1): There is a significant relationship between the fraudulent transactions of state and population."
   ]
  },
  {
   "cell_type": "code",
   "execution_count": null,
   "metadata": {
    "colab": {
     "base_uri": "https://localhost:8080/"
    },
    "id": "-GQUAmHmsrXe",
    "outputId": "f8ce74ce-f092-4273-fa14-2e0e1c4936d6"
   },
   "outputs": [],
   "source": [
    "contingency_table=pd.crosstab(fraud[\"state\"],fraud[\"pop_dense\"])\n",
    "print('contingency_table :-\\n',contingency_table)\n",
    "#Observed Values\n",
    "Observed_Values = contingency_table.values \n",
    "print(\"Observed Values :-\\n\",Observed_Values)\n",
    "b=stats.chi2_contingency(contingency_table)\n",
    "Expected_Values = b[3]\n",
    "print(\"Expected Values :-\\n\",Expected_Values)\n",
    "no_of_rows=len(contingency_table.iloc[0:3,0])\n",
    "no_of_columns=len(contingency_table.iloc[0,0:3])\n",
    "ddof=(no_of_rows-1)*(no_of_columns-1)\n",
    "print(\"Degree of Freedom:-\",ddof)\n",
    "alpha = 0.05\n",
    "from scipy.stats import chi2\n",
    "chi_square=sum([(o-e)**2./e for o,e in zip(Observed_Values,Expected_Values)])\n",
    "chi_square_statistic=chi_square[0]+chi_square[1]\n",
    "print(\"chi-square statistic:-\",chi_square_statistic)\n",
    "critical_value=chi2.ppf(q=1-alpha,df=ddof)\n",
    "print('critical_value:',critical_value)\n",
    "#p-value\n",
    "p_value=1-chi2.cdf(x=chi_square_statistic,df=ddof)\n",
    "print('p-value:',p_value)\n",
    "print('Significance level: ',alpha)\n",
    "print('Degree of Freedom: ',ddof)\n",
    "print('chi-square statistic:',chi_square_statistic)\n",
    "print('critical_value:',critical_value)\n",
    "print('p-value:',p_value)\n",
    "if chi_square_statistic>=critical_value:\n",
    "    print(\"Null Hypothesis is rejected,There is a significant relationship between the fraudulent transactions of state and population\")\n",
    "else:\n",
    "    print(\"Null Hypothesis is accepted,There is no significant relationship between the fraudulent transactions of state and population\")\n",
    "    \n",
    "if p_value<=alpha:\n",
    "    print(\"Null Hypothesis is rejected,There is a significant relationship between the fraudulent transactions of state and population\")\n",
    "else:\n",
    "    print(\"Null Hypothesis is accepted,There is no significant relationship between the fraudulent transactions of state and population\")"
   ]
  },
  {
   "cell_type": "code",
   "execution_count": 66,
   "metadata": {
    "colab": {
     "base_uri": "https://localhost:8080/"
    },
    "id": "cllRIHAifLqv",
    "outputId": "ace072a6-b26d-4c5c-f31c-203414acce28"
   },
   "outputs": [
    {
     "name": "stdout",
     "output_type": "stream",
     "text": [
      "<class 'pandas.core.frame.DataFrame'>\n",
      "Int64Index: 1852394 entries, 0 to 1852393\n",
      "Data columns (total 36 columns):\n",
      " #   Column                 Dtype  \n",
      "---  ------                 -----  \n",
      " 0   trans_date_trans_time  object \n",
      " 1   cc_num                 int64  \n",
      " 2   merchant               object \n",
      " 3   category               object \n",
      " 4   amt                    float64\n",
      " 5   first                  object \n",
      " 6   last                   object \n",
      " 7   gender                 object \n",
      " 8   street                 object \n",
      " 9   city                   object \n",
      " 10  state                  object \n",
      " 11  zip                    int64  \n",
      " 12  lat                    float64\n",
      " 13  long                   float64\n",
      " 14  job                    object \n",
      " 15  dob                    object \n",
      " 16  trans_num              object \n",
      " 17  unix_time              int64  \n",
      " 18  merch_lat              float64\n",
      " 19  merch_long             float64\n",
      " 20  is_fraud               int64  \n",
      " 21  age                    int64  \n",
      " 22  age_group              object \n",
      " 23  limit                  float64\n",
      " 24  year                   object \n",
      " 25  hour                   int64  \n",
      " 26  month                  object \n",
      " 27  dayofweek              object \n",
      " 28  day                    int64  \n",
      " 29  pop_dense              object \n",
      " 30  lat_diff               float64\n",
      " 31  long_diff              float64\n",
      " 32  displacement           float64\n",
      " 33  location               object \n",
      " 34  recency                float64\n",
      " 35  recency_segment        object \n",
      "dtypes: float64(10), int64(7), object(19)\n",
      "memory usage: 522.9+ MB\n"
     ]
    }
   ],
   "source": [
    "df.info()"
   ]
  },
  {
   "cell_type": "code",
   "execution_count": 67,
   "metadata": {
    "id": "Kih4Gc8vsraK"
   },
   "outputs": [],
   "source": [
    "df1 = df.copy()"
   ]
  },
  {
   "cell_type": "markdown",
   "metadata": {
    "id": "dSs8Znu5sck7"
   },
   "source": [
    "**MODEL BUILDING**"
   ]
  },
  {
   "cell_type": "code",
   "execution_count": 68,
   "metadata": {
    "id": "HuDI32j9src1"
   },
   "outputs": [],
   "source": [
    "df1.drop(['trans_date_trans_time','first','last','street','city','zip','lat','long','dob','trans_num','location','unix_time','merch_lat','merch_long','lat_diff','long_diff'],axis=1,inplace=True)"
   ]
  },
  {
   "cell_type": "code",
   "execution_count": 69,
   "metadata": {
    "colab": {
     "base_uri": "https://localhost:8080/"
    },
    "id": "BGbVQSdAfLqw",
    "outputId": "1e35f72d-73a8-4bb0-d617-a5b0297a5d0a"
   },
   "outputs": [
    {
     "name": "stdout",
     "output_type": "stream",
     "text": [
      "<class 'pandas.core.frame.DataFrame'>\n",
      "Int64Index: 1852394 entries, 0 to 1852393\n",
      "Data columns (total 20 columns):\n",
      " #   Column           Dtype  \n",
      "---  ------           -----  \n",
      " 0   cc_num           int64  \n",
      " 1   merchant         object \n",
      " 2   category         object \n",
      " 3   amt              float64\n",
      " 4   gender           object \n",
      " 5   state            object \n",
      " 6   job              object \n",
      " 7   is_fraud         int64  \n",
      " 8   age              int64  \n",
      " 9   age_group        object \n",
      " 10  limit            float64\n",
      " 11  year             object \n",
      " 12  hour             int64  \n",
      " 13  month            object \n",
      " 14  dayofweek        object \n",
      " 15  day              int64  \n",
      " 16  pop_dense        object \n",
      " 17  displacement     float64\n",
      " 18  recency          float64\n",
      " 19  recency_segment  object \n",
      "dtypes: float64(4), int64(5), object(11)\n",
      "memory usage: 296.8+ MB\n"
     ]
    }
   ],
   "source": [
    "df1.info()"
   ]
  },
  {
   "cell_type": "code",
   "execution_count": 70,
   "metadata": {},
   "outputs": [
    {
     "data": {
      "text/plain": [
       "<AxesSubplot:>"
      ]
     },
     "execution_count": 70,
     "metadata": {},
     "output_type": "execute_result"
    },
    {
     "data": {
      "image/png": "[encoded data removed]",
      "text/plain": [
       "<Figure size 1296x720 with 2 Axes>"
      ]
     },
     "metadata": {
      "needs_background": "light"
     },
     "output_type": "display_data"
    }
   ],
   "source": [
    "plt.figure(figsize=(18,10))\n",
    "sns.heatmap(df1.corr(),annot=True)\n"
   ]
  },
  {
   "cell_type": "code",
   "execution_count": 71,
   "metadata": {
    "id": "RPXuecAvsrfa"
   },
   "outputs": [],
   "source": [
    "df1.drop(['state','job','year','day','recency','merchant','age_group'],axis=1,inplace=True)"
   ]
  },
  {
   "cell_type": "code",
   "execution_count": null,
   "metadata": {
    "id": "yHT9UQIbsriA"
   },
   "outputs": [],
   "source": [
    "#converting categorical variables to numerical\n",
    "#ordinalEncoding"
   ]
  },
  {
   "cell_type": "code",
   "execution_count": 72,
   "metadata": {
    "id": "E_-ykMaysrko"
   },
   "outputs": [],
   "source": [
    "df1['gender'] = df1['gender'].replace(('M', 'F'), (0,1))"
   ]
  },
  {
   "cell_type": "code",
   "execution_count": 73,
   "metadata": {
    "id": "sVpVIQQJsrnv"
   },
   "outputs": [],
   "source": [
    "from sklearn.preprocessing import OrdinalEncoder\n",
    "enc = OrdinalEncoder(dtype = np.float64)\n",
    "enc.fit(df1.loc[:, ['category', 'dayofweek', 'pop_dense','month','recency_segment']])\n",
    "df1.loc[:, ['category', 'dayofweek', 'pop_dense','month','recency_segment']] = enc.transform(df1[['category', 'dayofweek','pop_dense','month','recency_segment']])"
   ]
  },
  {
   "cell_type": "code",
   "execution_count": 74,
   "metadata": {},
   "outputs": [
    {
     "data": {
      "text/plain": [
       "5.0    777738\n",
       "1.0    349908\n",
       "4.0    317801\n",
       "2.0    263792\n",
       "0.0    142031\n",
       "3.0       999\n",
       "Name: recency_segment, dtype: int64"
      ]
     },
     "execution_count": 74,
     "metadata": {},
     "output_type": "execute_result"
    }
   ],
   "source": [
    "df1['recency_segment'].value_counts()"
   ]
  },
  {
   "cell_type": "code",
   "execution_count": 75,
   "metadata": {},
   "outputs": [],
   "source": [
    "df1.loc[df1.recency_segment.isnull(),[\"recency_segment\"]] = -1"
   ]
  },
  {
   "cell_type": "code",
   "execution_count": 76,
   "metadata": {},
   "outputs": [
    {
     "data": {
      "text/plain": [
       "cc_num             0\n",
       "category           0\n",
       "amt                0\n",
       "gender             0\n",
       "is_fraud           0\n",
       "age                0\n",
       "limit              0\n",
       "hour               0\n",
       "month              0\n",
       "dayofweek          0\n",
       "pop_dense          0\n",
       "displacement       0\n",
       "recency_segment    0\n",
       "dtype: int64"
      ]
     },
     "execution_count": 76,
     "metadata": {},
     "output_type": "execute_result"
    }
   ],
   "source": [
    "df1.isnull().sum()"
   ]
  },
  {
   "cell_type": "code",
   "execution_count": 77,
   "metadata": {
    "colab": {
     "base_uri": "https://localhost:8080/"
    },
    "id": "48uAXAPHfLqx",
    "outputId": "7c2d8208-aed5-4b13-b601-bf3face6f781"
   },
   "outputs": [
    {
     "name": "stdout",
     "output_type": "stream",
     "text": [
      "<class 'pandas.core.frame.DataFrame'>\n",
      "Int64Index: 1852394 entries, 0 to 1852393\n",
      "Data columns (total 13 columns):\n",
      " #   Column           Dtype  \n",
      "---  ------           -----  \n",
      " 0   cc_num           int64  \n",
      " 1   category         float64\n",
      " 2   amt              float64\n",
      " 3   gender           int64  \n",
      " 4   is_fraud         int64  \n",
      " 5   age              int64  \n",
      " 6   limit            float64\n",
      " 7   hour             int64  \n",
      " 8   month            float64\n",
      " 9   dayofweek        float64\n",
      " 10  pop_dense        float64\n",
      " 11  displacement     float64\n",
      " 12  recency_segment  float64\n",
      "dtypes: float64(8), int64(5)\n",
      "memory usage: 197.9 MB\n"
     ]
    }
   ],
   "source": [
    "df1.info()"
   ]
  },
  {
   "cell_type": "code",
   "execution_count": 78,
   "metadata": {
    "id": "8nY_3hIBuH35"
   },
   "outputs": [],
   "source": [
    "# import libraries needed for this step\n",
    "from sklearn.model_selection import train_test_split # train-test split\n",
    "from sklearn.metrics import confusion_matrix, classification_report,roc_auc_score,roc_curve # classification metrics\n",
    "from imblearn.over_sampling import SMOTE # SMOTE\n",
    "from sklearn.preprocessing import RobustScaler, MinMaxScaler, StandardScaler # scaling methods\n",
    "from sklearn.metrics import confusion_matrix,accuracy_score,f1_score,precision_score,plot_roc_curve,accuracy_score,recall_score\n",
    "from sklearn.metrics import plot_confusion_matrix\n",
    "\n",
    "import sklearn.neighbors\n",
    "from sklearn.model_selection import GridSearchCV # grid search cross validation\n",
    "from sklearn.model_selection import RandomizedSearchCV # randomized search cross validation\n",
    "\n",
    "# supervised learning algorithms\n",
    "from sklearn.linear_model import LogisticRegression # Logistic Regression\n",
    "from sklearn.neighbors import KNeighborsClassifier # K-Nearest Neighbbors\n",
    "from sklearn.naive_bayes import GaussianNB # Gaussain Naive Bayes\n",
    "from sklearn.tree import DecisionTreeClassifier # Decision Tree\n",
    "from sklearn.ensemble import RandomForestClassifier # Random Forest\n",
    "from sklearn.ensemble import AdaBoostClassifier # Adaptive Boosting Classifier\n",
    "from sklearn.ensemble import BaggingClassifier # Bootstrap Aggregating Classifier\n",
    "from xgboost import XGBClassifier\n",
    "import statsmodels.api as sm # estimates statistical models\n",
    "from sklearn.feature_selection import RFE #Recursive Feature Elimination for feature selection\n",
    "from sklearn import metrics\n",
    "from sklearn.metrics import precision_recall_fscore_support as score\n",
    "from statsmodels.stats.outliers_influence import variance_inflation_factor"
   ]
  },
  {
   "cell_type": "code",
   "execution_count": 79,
   "metadata": {
    "id": "3K_r4CqMuH7V"
   },
   "outputs": [],
   "source": [
    "x = df1.drop(['is_fraud'],axis=1) \n",
    "y = df1['is_fraud'] "
   ]
  },
  {
   "cell_type": "code",
   "execution_count": 80,
   "metadata": {
    "id": "7Dcv9M8GuH-J"
   },
   "outputs": [],
   "source": [
    "x_train,x_test,y_train,y_test=train_test_split(x,y,test_size=0.4, random_state=42)"
   ]
  },
  {
   "cell_type": "code",
   "execution_count": 82,
   "metadata": {
    "colab": {
     "base_uri": "https://localhost:8080/"
    },
    "id": "mDm7JY2FMxw4",
    "outputId": "1e136adf-4483-458d-aa8c-8472193c8cdc"
   },
   "outputs": [
    {
     "data": {
      "text/plain": [
       "cc_num             0\n",
       "category           0\n",
       "amt                0\n",
       "gender             0\n",
       "is_fraud           0\n",
       "age                0\n",
       "limit              0\n",
       "hour               0\n",
       "month              0\n",
       "dayofweek          0\n",
       "pop_dense          0\n",
       "displacement       0\n",
       "recency_segment    0\n",
       "dtype: int64"
      ]
     },
     "execution_count": 82,
     "metadata": {},
     "output_type": "execute_result"
    }
   ],
   "source": [
    "df1.isnull().sum() #Checking out null values"
   ]
  },
  {
   "cell_type": "markdown",
   "metadata": {
    "id": "sZgdlFCFuu2d"
   },
   "source": [
    "Before SMOTE"
   ]
  },
  {
   "cell_type": "markdown",
   "metadata": {
    "id": "ZSYB6UmFuxyC"
   },
   "source": [
    "Logistic Regression"
   ]
  },
  {
   "cell_type": "code",
   "execution_count": 83,
   "metadata": {
    "colab": {
     "base_uri": "https://localhost:8080/"
    },
    "id": "2X-XOxMjuIBZ",
    "outputId": "8b5949b7-c33b-4ad1-af39-4be3a0654f60"
   },
   "outputs": [
    {
     "name": "stdout",
     "output_type": "stream",
     "text": [
      "Logistic Regression\n",
      "Accuracy: {0.9948}\n",
      "recall_Score: {0.0}\n",
      "Precision_score: {0.0}\n",
      "F1-score equals: {0.0}\n"
     ]
    },
    {
     "data": {
      "text/plain": [
       "array([[737109,      0],\n",
       "       [  3849,      0]], dtype=int64)"
      ]
     },
     "execution_count": 83,
     "metadata": {},
     "output_type": "execute_result"
    }
   ],
   "source": [
    "from sklearn.linear_model import LogisticRegression\n",
    "lr=LogisticRegression()\n",
    "model1=lr.fit(x_train,y_train)\n",
    "y_lrpred=model1.predict(x_test)\n",
    "y_lrpred\n",
    "\n",
    "print(\"Logistic Regression\")\n",
    "print(\"Accuracy:\", {accuracy_score(y_test,y_lrpred).round(4)})\n",
    "print(\"recall_Score:\", {recall_score(y_test,y_lrpred).round(4)})\n",
    "print(\"Precision_score:\", {precision_score(y_test,y_lrpred)})\n",
    "print(\"F1-score equals:\", {f1_score(y_test,y_lrpred).round(4)})\n",
    "confusion_matrix(y_test,y_lrpred)"
   ]
  },
  {
   "cell_type": "raw",
   "metadata": {
    "id": "Z-Wbq7GyuIQv"
   },
   "source": [
    "Decision Tree"
   ]
  },
  {
   "cell_type": "code",
   "execution_count": 84,
   "metadata": {
    "colab": {
     "base_uri": "https://localhost:8080/"
    },
    "id": "y4QvR1b4fLqy",
    "outputId": "fb1eb970-f879-4a34-db7b-94be83ba4592"
   },
   "outputs": [
    {
     "name": "stdout",
     "output_type": "stream",
     "text": [
      "Decision tree\n",
      "Accuracy: {0.998}\n",
      "recall_Score: {0.8239}\n",
      "Precision_score: {0.8008}\n",
      "F1-score equals: {0.8121}\n"
     ]
    },
    {
     "data": {
      "text/plain": [
       "array([[736320,    789],\n",
       "       [   678,   3171]], dtype=int64)"
      ]
     },
     "execution_count": 84,
     "metadata": {},
     "output_type": "execute_result"
    }
   ],
   "source": [
    "from sklearn.tree import DecisionTreeClassifier\n",
    "dtr=DecisionTreeClassifier()\n",
    "model2=dtr.fit(x_train,y_train)\n",
    "y_dtrpred=model2.predict(x_test)\n",
    "y_dtrpred\n",
    "\n",
    "print(\"Decision tree\")\n",
    "print(\"Accuracy:\", {accuracy_score(y_test,y_dtrpred).round(4)})\n",
    "print(\"recall_Score:\", {recall_score(y_test,y_dtrpred).round(4)})\n",
    "print(\"Precision_score:\", {precision_score(y_test,y_dtrpred).round(4)})\n",
    "print(\"F1-score equals:\", {f1_score(y_test,y_dtrpred).round(4)})\n",
    "confusion_matrix(y_test,y_dtrpred)"
   ]
  },
  {
   "cell_type": "markdown",
   "metadata": {
    "id": "BEIApPolfLqz"
   },
   "source": [
    "Random Forest"
   ]
  },
  {
   "cell_type": "code",
   "execution_count": null,
   "metadata": {
    "colab": {
     "base_uri": "https://localhost:8080/"
    },
    "id": "2FoYgO8JfLqz",
    "outputId": "b4fe3dd6-6ad1-40c0-dcb9-8825e89e0422"
   },
   "outputs": [],
   "source": [
    "from sklearn.ensemble import RandomForestClassifier\n",
    "rf=RandomForestClassifier()\n",
    "model3=rf.fit(x_train,y_train)\n",
    "y_rfpred=model3.predict(x_test)\n",
    "y_rfpred\n",
    "\n",
    "print(\"Random Forest\")\n",
    "print(\"Accuracy:\", {accuracy_score(y_test,y_rfpred).round(4)})\n",
    "print(\"recall_Score:\", {recall_score(y_test,y_rfpred).round(4)})\n",
    "print(\"Precision_score:\", {precision_score(y_test,y_rfpred).round(4)})\n",
    "print(\"F1-score equals:\", {f1_score(y_test,y_rfpred).round(4)})\n",
    "confusion_matrix(y_test,y_rfpred)"
   ]
  },
  {
   "cell_type": "markdown",
   "metadata": {
    "id": "0r_XwNPUfLqz"
   },
   "source": [
    "Xgboost"
   ]
  },
  {
   "cell_type": "code",
   "execution_count": null,
   "metadata": {
    "colab": {
     "base_uri": "https://localhost:8080/"
    },
    "id": "JNgEBVZ0fLqz",
    "outputId": "4b18e37b-6a6a-4ada-88b6-5860ed37f7e3"
   },
   "outputs": [],
   "source": [
    "from xgboost import XGBClassifier\n",
    "xgb=XGBClassifier()\n",
    "model4=xgb.fit(x_train,y_train)\n",
    "y_xgbpred=model4.predict(x_test)\n",
    "y_xgbpred\n",
    "\n",
    "print(\"XGBoost\")\n",
    "print(\"Accuracy:\", {accuracy_score(y_test,y_xgbpred).round(4)})\n",
    "print(\"recall_Score:\", {recall_score(y_test,y_xgbpred).round(4)})\n",
    "print(\"Precision_score:\", {precision_score(y_test,y_xgbpred).round(4)})\n",
    "print(\"F1-score equals:\", {f1_score(y_test,y_xgbpred).round(4)})\n",
    "confusion_matrix(y_test,y_xgbpred)"
   ]
  },
  {
   "cell_type": "markdown",
   "metadata": {
    "id": "iK04rCjtfLqz"
   },
   "source": [
    "KNN"
   ]
  },
  {
   "cell_type": "code",
   "execution_count": 86,
   "metadata": {
    "colab": {
     "base_uri": "https://localhost:8080/"
    },
    "id": "chmnXl6wfLqz",
    "outputId": "65b7165b-b2d2-41b6-cc4b-ec6eebd631d3"
   },
   "outputs": [
    {
     "name": "stdout",
     "output_type": "stream",
     "text": [
      "KNN\n",
      "Accuracy: {0.9952}\n",
      "recall_Score: {0.1541}\n",
      "Precision_score: {0.6911}\n",
      "F1-score equals: {0.252}\n"
     ]
    },
    {
     "data": {
      "text/plain": [
       "array([[736844,    265],\n",
       "       [  3256,    593]], dtype=int64)"
      ]
     },
     "execution_count": 86,
     "metadata": {},
     "output_type": "execute_result"
    }
   ],
   "source": [
    "from sklearn.neighbors import KNeighborsClassifier\n",
    "knn=KNeighborsClassifier(n_neighbors=6)\n",
    "model5=knn.fit(x_train,y_train)\n",
    "y_knnpred=model5.predict(x_test)\n",
    "y_knnpred\n",
    "\n",
    "print(\"KNN\")\n",
    "print(\"Accuracy:\", {accuracy_score(y_test,y_knnpred).round(4)})\n",
    "print(\"recall_Score:\", {recall_score(y_test,y_knnpred).round(4)})\n",
    "print(\"Precision_score:\", {precision_score(y_test,y_knnpred).round(4)})\n",
    "print(\"F1-score equals:\", {f1_score(y_test,y_knnpred).round(4)})\n",
    "confusion_matrix(y_test,y_knnpred)"
   ]
  },
  {
   "cell_type": "markdown",
   "metadata": {
    "id": "qiB7YSADfLqz"
   },
   "source": [
    "NaiveBaiyes"
   ]
  },
  {
   "cell_type": "code",
   "execution_count": 87,
   "metadata": {
    "colab": {
     "base_uri": "https://localhost:8080/"
    },
    "id": "99CNF9iwfLq0",
    "outputId": "8907c532-efe5-4220-b1de-fa6d7bfdeca1"
   },
   "outputs": [
    {
     "name": "stdout",
     "output_type": "stream",
     "text": [
      "Naive Baiyes\n",
      "Accuracy: {0.9948}\n",
      "recall_Score: {0.0}\n",
      "Precision_score: {0.0}\n",
      "F1-score equals: {0.0}\n"
     ]
    },
    {
     "data": {
      "text/plain": [
       "array([[737109,      0],\n",
       "       [  3849,      0]], dtype=int64)"
      ]
     },
     "execution_count": 87,
     "metadata": {},
     "output_type": "execute_result"
    }
   ],
   "source": [
    "from sklearn.naive_bayes import GaussianNB\n",
    "gub=GaussianNB()\n",
    "model6=gub.fit(x_train,y_train)\n",
    "y_gubpred=model6.predict(x_test)\n",
    "y_gubpred\n",
    "\n",
    "print(\"Naive Baiyes\")\n",
    "print(\"Accuracy:\", {accuracy_score(y_test,y_gubpred).round(4)})\n",
    "print(\"recall_Score:\", {recall_score(y_test,y_gubpred).round(4)})\n",
    "print(\"Precision_score:\", {precision_score(y_test,y_gubpred).round(4)})\n",
    "print(\"F1-score equals:\", {f1_score(y_test,y_gubpred).round(4)})\n",
    "confusion_matrix(y_test,y_gubpred)"
   ]
  },
  {
   "cell_type": "markdown",
   "metadata": {
    "id": "_mABUxJ1fLq0"
   },
   "source": [
    "SMOTE"
   ]
  },
  {
   "cell_type": "code",
   "execution_count": 88,
   "metadata": {
    "id": "_B1GOpvvfLq0"
   },
   "outputs": [],
   "source": [
    "smote = SMOTE()\n",
    "x_train_new, y_train_new = smote.fit_resample(x_train, y_train.ravel())"
   ]
  },
  {
   "cell_type": "code",
   "execution_count": 89,
   "metadata": {
    "colab": {
     "base_uri": "https://localhost:8080/"
    },
    "id": "GeIn_vhCfLq0",
    "outputId": "2b7bff89-4071-4a60-f6fa-1e6ce736b83d"
   },
   "outputs": [
    {
     "data": {
      "text/plain": [
       "(2211268, 12)"
      ]
     },
     "execution_count": 89,
     "metadata": {},
     "output_type": "execute_result"
    }
   ],
   "source": [
    "x_train_new.shape"
   ]
  },
  {
   "cell_type": "code",
   "execution_count": 90,
   "metadata": {
    "colab": {
     "base_uri": "https://localhost:8080/"
    },
    "id": "Z3UxhBcPfLq0",
    "outputId": "c4699ed7-0247-4ef0-8ddd-3b8a02cd8654"
   },
   "outputs": [
    {
     "data": {
      "text/plain": [
       "(2211268,)"
      ]
     },
     "execution_count": 90,
     "metadata": {},
     "output_type": "execute_result"
    }
   ],
   "source": [
    "y_train_new.shape"
   ]
  },
  {
   "cell_type": "markdown",
   "metadata": {
    "id": "rTm5PuLpfLq0"
   },
   "source": [
    "AFTER SMOTE"
   ]
  },
  {
   "cell_type": "markdown",
   "metadata": {
    "id": "m7N4KfsXfLq1"
   },
   "source": [
    "Logistic Regression"
   ]
  },
  {
   "cell_type": "code",
   "execution_count": 91,
   "metadata": {
    "colab": {
     "base_uri": "https://localhost:8080/"
    },
    "id": "DyWcR-7KfLq1",
    "outputId": "502401f1-957a-478a-8323-63be153ff186"
   },
   "outputs": [
    {
     "name": "stdout",
     "output_type": "stream",
     "text": [
      "Logistic Regression\n",
      "Accuracy: {0.9948}\n",
      "recall_Score: {0.0}\n",
      "Precision_score: {0.0}\n",
      "F1-score equals: {0.0}\n"
     ]
    },
    {
     "data": {
      "text/plain": [
       "array([[737109,      0],\n",
       "       [  3849,      0]], dtype=int64)"
      ]
     },
     "execution_count": 91,
     "metadata": {},
     "output_type": "execute_result"
    }
   ],
   "source": [
    "from sklearn.linear_model import LogisticRegression\n",
    "lr=LogisticRegression()\n",
    "model1=lr.fit(x_train_new,y_train_new)\n",
    "y_lrpred=model1.predict(x_test)\n",
    "y_lrpred\n",
    "\n",
    "print(\"Logistic Regression\")\n",
    "print(\"Accuracy:\", {accuracy_score(y_test,y_lrpred).round(4)})\n",
    "print(\"recall_Score:\", {recall_score(y_test,y_lrpred).round(4)})\n",
    "print(\"Precision_score:\", {precision_score(y_test,y_lrpred)})\n",
    "print(\"F1-score equals:\", {f1_score(y_test,y_lrpred).round(4)})\n",
    "confusion_matrix(y_test,y_lrpred)"
   ]
  },
  {
   "cell_type": "code",
   "execution_count": 92,
   "metadata": {
    "colab": {
     "base_uri": "https://localhost:8080/"
    },
    "id": "CBw1sFanfLq1",
    "outputId": "c6cd474d-2fb9-41cb-c144-d04f19a780b5"
   },
   "outputs": [
    {
     "data": {
      "text/plain": [
       "array([[737109,      0],\n",
       "       [  3849,      0]], dtype=int64)"
      ]
     },
     "execution_count": 92,
     "metadata": {},
     "output_type": "execute_result"
    }
   ],
   "source": [
    "confusion_matrix(y_test,y_lrpred)"
   ]
  },
  {
   "cell_type": "markdown",
   "metadata": {
    "id": "YTVu5WMofLq1"
   },
   "source": [
    "Decision Tree"
   ]
  },
  {
   "cell_type": "code",
   "execution_count": 93,
   "metadata": {
    "colab": {
     "base_uri": "https://localhost:8080/"
    },
    "id": "Y6k820c4fLq1",
    "outputId": "44f889ed-6257-4ec6-fe18-a3afc0795869"
   },
   "outputs": [
    {
     "name": "stdout",
     "output_type": "stream",
     "text": [
      "Decision tree\n",
      "Accuracy: {0.9956}\n",
      "recall_Score: {0.7633}\n",
      "Precision_score: {0.5576}\n",
      "F1-score equals: {0.6444}\n"
     ]
    }
   ],
   "source": [
    "from sklearn.tree import DecisionTreeClassifier\n",
    "dtr=DecisionTreeClassifier()\n",
    "model2=dtr.fit(x_train_new,y_train_new)\n",
    "y_dtrpred=model2.predict(x_test)\n",
    "y_dtrpred\n",
    "confusion_matrix(y_test,y_dtrpred)\n",
    "print(\"Decision tree\")\n",
    "print(\"Accuracy:\", {accuracy_score(y_test,y_dtrpred).round(4)})\n",
    "print(\"recall_Score:\", {recall_score(y_test,y_dtrpred).round(4)})\n",
    "print(\"Precision_score:\", {precision_score(y_test,y_dtrpred).round(4)})\n",
    "print(\"F1-score equals:\", {f1_score(y_test,y_dtrpred).round(4)})"
   ]
  },
  {
   "cell_type": "markdown",
   "metadata": {
    "id": "HrrFDtupfLq1"
   },
   "source": [
    "Random Forest"
   ]
  },
  {
   "cell_type": "code",
   "execution_count": null,
   "metadata": {
    "colab": {
     "base_uri": "https://localhost:8080/"
    },
    "id": "idrEnQqefLq1",
    "outputId": "70d2fd99-bb9c-450f-dba1-1e0750c34827"
   },
   "outputs": [],
   "source": [
    "from sklearn.ensemble import RandomForestClassifier\n",
    "rf=RandomForestClassifier()\n",
    "model3=rf.fit(x_train_new,y_train_new)\n",
    "y_rfpred=model3.predict(x_test)\n",
    "y_rfpred\n",
    "confusion_matrix(y_test,y_rfpred)\n",
    "print(\"Random Forest\")\n",
    "print(\"Accuracy:\", {accuracy_score(y_test,y_rfpred).round(4)})\n",
    "print(\"recall_Score:\", {recall_score(y_test,y_rfpred).round(4)})\n",
    "print(\"Precision_score:\", {precision_score(y_test,y_rfpred).round(4)})\n",
    "print(\"F1-score equals:\", {f1_score(y_test,y_rfpred).round(4)})"
   ]
  },
  {
   "cell_type": "markdown",
   "metadata": {},
   "source": [
    "Hyper Parameter Tuning"
   ]
  },
  {
   "cell_type": "code",
   "execution_count": 94,
   "metadata": {
    "id": "omsLMH-g5WCS"
   },
   "outputs": [],
   "source": [
    "dtc1 = DecisionTreeClassifier()\n",
    "\n",
    "params_dtc = {\n",
    "    'max_depth': [10, 20, 50, 100, 200],\n",
    "    'min_samples_leaf': [10, 20, 50, 100, 200],\n",
    "    'min_samples_split' : [10, 20, 50, 100, 200],\n",
    "    'criterion': [\"gini\", \"entropy\"]\n",
    "} "
   ]
  },
  {
   "cell_type": "code",
   "execution_count": 95,
   "metadata": {
    "colab": {
     "base_uri": "https://localhost:8080/"
    },
    "id": "DT-p00ZP5Vys",
    "outputId": "e6567fca-6b8a-4121-b436-7ea9cb20479f"
   },
   "outputs": [
    {
     "data": {
      "text/html": [
       "<style>#sk-container-id-1 {color: black;background-color: white;}#sk-container-id-1 pre{padding: 0;}#sk-container-id-1 div.sk-toggleable {background-color: white;}#sk-container-id-1 label.sk-toggleable__label {cursor: pointer;display: block;width: 100%;margin-bottom: 0;padding: 0.3em;box-sizing: border-box;text-align: center;}#sk-container-id-1 label.sk-toggleable__label-arrow:before {content: \"▸\";float: left;margin-right: 0.25em;color: #696969;}#sk-container-id-1 label.sk-toggleable__label-arrow:hover:before {color: black;}#sk-container-id-1 div.sk-estimator:hover label.sk-toggleable__label-arrow:before {color: black;}#sk-container-id-1 div.sk-toggleable__content {max-height: 0;max-width: 0;overflow: hidden;text-align: left;background-color: #f0f8ff;}#sk-container-id-1 div.sk-toggleable__content pre {margin: 0.2em;color: black;border-radius: 0.25em;background-color: #f0f8ff;}#sk-container-id-1 input.sk-toggleable__control:checked~div.sk-toggleable__content {max-height: 200px;max-width: 100%;overflow: auto;}#sk-container-id-1 input.sk-toggleable__control:checked~label.sk-toggleable__label-arrow:before {content: \"▾\";}#sk-container-id-1 div.sk-estimator input.sk-toggleable__control:checked~label.sk-toggleable__label {background-color: #d4ebff;}#sk-container-id-1 div.sk-label input.sk-toggleable__control:checked~label.sk-toggleable__label {background-color: #d4ebff;}#sk-container-id-1 input.sk-hidden--visually {border: 0;clip: rect(1px 1px 1px 1px);clip: rect(1px, 1px, 1px, 1px);height: 1px;margin: -1px;overflow: hidden;padding: 0;position: absolute;width: 1px;}#sk-container-id-1 div.sk-estimator {font-family: monospace;background-color: #f0f8ff;border: 1px dotted black;border-radius: 0.25em;box-sizing: border-box;margin-bottom: 0.5em;}#sk-container-id-1 div.sk-estimator:hover {background-color: #d4ebff;}#sk-container-id-1 div.sk-parallel-item::after {content: \"\";width: 100%;border-bottom: 1px solid gray;flex-grow: 1;}#sk-container-id-1 div.sk-label:hover label.sk-toggleable__label {background-color: #d4ebff;}#sk-container-id-1 div.sk-serial::before {content: \"\";position: absolute;border-left: 1px solid gray;box-sizing: border-box;top: 0;bottom: 0;left: 50%;z-index: 0;}#sk-container-id-1 div.sk-serial {display: flex;flex-direction: column;align-items: center;background-color: white;padding-right: 0.2em;padding-left: 0.2em;position: relative;}#sk-container-id-1 div.sk-item {position: relative;z-index: 1;}#sk-container-id-1 div.sk-parallel {display: flex;align-items: stretch;justify-content: center;background-color: white;position: relative;}#sk-container-id-1 div.sk-item::before, #sk-container-id-1 div.sk-parallel-item::before {content: \"\";position: absolute;border-left: 1px solid gray;box-sizing: border-box;top: 0;bottom: 0;left: 50%;z-index: -1;}#sk-container-id-1 div.sk-parallel-item {display: flex;flex-direction: column;z-index: 1;position: relative;background-color: white;}#sk-container-id-1 div.sk-parallel-item:first-child::after {align-self: flex-end;width: 50%;}#sk-container-id-1 div.sk-parallel-item:last-child::after {align-self: flex-start;width: 50%;}#sk-container-id-1 div.sk-parallel-item:only-child::after {width: 0;}#sk-container-id-1 div.sk-dashed-wrapped {border: 1px dashed gray;margin: 0 0.4em 0.5em 0.4em;box-sizing: border-box;padding-bottom: 0.4em;background-color: white;}#sk-container-id-1 div.sk-label label {font-family: monospace;font-weight: bold;display: inline-block;line-height: 1.2em;}#sk-container-id-1 div.sk-label-container {text-align: center;}#sk-container-id-1 div.sk-container {/* jupyter's `normalize.less` sets `[hidden] { display: none; }` but bootstrap.min.css set `[hidden] { display: none !important; }` so we also need the `!important` here to be able to override the default hidden behavior on the sphinx rendered scikit-learn.org. See: https://github.com/scikit-learn/scikit-learn/issues/21755 */display: inline-block !important;position: relative;}#sk-container-id-1 div.sk-text-repr-fallback {display: none;}</style><div id=\"sk-container-id-1\" class=\"sk-top-container\"><div class=\"sk-text-repr-fallback\"><pre>DecisionTreeClassifier(max_depth=50, min_samples_leaf=20, min_samples_split=50)</pre><b>In a Jupyter environment, please rerun this cell to show the HTML representation or trust the notebook. <br />On GitHub, the HTML representation is unable to render, please try loading this page with nbviewer.org.</b></div><div class=\"sk-container\" hidden><div class=\"sk-item\"><div class=\"sk-estimator sk-toggleable\"><input class=\"sk-toggleable__control sk-hidden--visually\" id=\"sk-estimator-id-1\" type=\"checkbox\" checked><label for=\"sk-estimator-id-1\" class=\"sk-toggleable__label sk-toggleable__label-arrow\">DecisionTreeClassifier</label><div class=\"sk-toggleable__content\"><pre>DecisionTreeClassifier(max_depth=50, min_samples_leaf=20, min_samples_split=50)</pre></div></div></div></div></div>"
      ],
      "text/plain": [
       "DecisionTreeClassifier(max_depth=50, min_samples_leaf=20, min_samples_split=50)"
      ]
     },
     "execution_count": 95,
     "metadata": {},
     "output_type": "execute_result"
    }
   ],
   "source": [
    "dtc2 = DecisionTreeClassifier(min_samples_split= 50, min_samples_leaf= 20, max_depth= 50, criterion= 'gini')\n",
    "dtc2.fit(x_train,y_train)"
   ]
  },
  {
   "cell_type": "code",
   "execution_count": 96,
   "metadata": {
    "colab": {
     "base_uri": "https://localhost:8080/"
    },
    "id": "s5wbLbAr5Ve-",
    "outputId": "f508ba6c-762a-4351-dcff-9fa2a68bf75c"
   },
   "outputs": [
    {
     "name": "stdout",
     "output_type": "stream",
     "text": [
      "Accuracy score  0.9986099077140674\n",
      "Precision score  0.9183734045710893\n",
      "F1 score:  99.86 %\n"
     ]
    }
   ],
   "source": [
    "\n",
    "y_pred=dtc2.predict(x_test)\n",
    "\n",
    "\n",
    "print(\"Accuracy score \" , accuracy_score(y_test,y_pred))\n",
    "print(\"Precision score \" , precision_score(y_test,y_pred))\n",
    "print(\"F1 score: \", round(f1_score(y_test, y_pred, average='weighted')*100,2),\"%\")"
   ]
  },
  {
   "cell_type": "code",
   "execution_count": 97,
   "metadata": {
    "colab": {
     "base_uri": "https://localhost:8080/"
    },
    "id": "0Khr3af07kmm",
    "outputId": "02f3cb1c-ede5-4276-de7f-57cbf227da5c"
   },
   "outputs": [
    {
     "data": {
      "text/html": [
       "<style>#sk-container-id-2 {color: black;background-color: white;}#sk-container-id-2 pre{padding: 0;}#sk-container-id-2 div.sk-toggleable {background-color: white;}#sk-container-id-2 label.sk-toggleable__label {cursor: pointer;display: block;width: 100%;margin-bottom: 0;padding: 0.3em;box-sizing: border-box;text-align: center;}#sk-container-id-2 label.sk-toggleable__label-arrow:before {content: \"▸\";float: left;margin-right: 0.25em;color: #696969;}#sk-container-id-2 label.sk-toggleable__label-arrow:hover:before {color: black;}#sk-container-id-2 div.sk-estimator:hover label.sk-toggleable__label-arrow:before {color: black;}#sk-container-id-2 div.sk-toggleable__content {max-height: 0;max-width: 0;overflow: hidden;text-align: left;background-color: #f0f8ff;}#sk-container-id-2 div.sk-toggleable__content pre {margin: 0.2em;color: black;border-radius: 0.25em;background-color: #f0f8ff;}#sk-container-id-2 input.sk-toggleable__control:checked~div.sk-toggleable__content {max-height: 200px;max-width: 100%;overflow: auto;}#sk-container-id-2 input.sk-toggleable__control:checked~label.sk-toggleable__label-arrow:before {content: \"▾\";}#sk-container-id-2 div.sk-estimator input.sk-toggleable__control:checked~label.sk-toggleable__label {background-color: #d4ebff;}#sk-container-id-2 div.sk-label input.sk-toggleable__control:checked~label.sk-toggleable__label {background-color: #d4ebff;}#sk-container-id-2 input.sk-hidden--visually {border: 0;clip: rect(1px 1px 1px 1px);clip: rect(1px, 1px, 1px, 1px);height: 1px;margin: -1px;overflow: hidden;padding: 0;position: absolute;width: 1px;}#sk-container-id-2 div.sk-estimator {font-family: monospace;background-color: #f0f8ff;border: 1px dotted black;border-radius: 0.25em;box-sizing: border-box;margin-bottom: 0.5em;}#sk-container-id-2 div.sk-estimator:hover {background-color: #d4ebff;}#sk-container-id-2 div.sk-parallel-item::after {content: \"\";width: 100%;border-bottom: 1px solid gray;flex-grow: 1;}#sk-container-id-2 div.sk-label:hover label.sk-toggleable__label {background-color: #d4ebff;}#sk-container-id-2 div.sk-serial::before {content: \"\";position: absolute;border-left: 1px solid gray;box-sizing: border-box;top: 0;bottom: 0;left: 50%;z-index: 0;}#sk-container-id-2 div.sk-serial {display: flex;flex-direction: column;align-items: center;background-color: white;padding-right: 0.2em;padding-left: 0.2em;position: relative;}#sk-container-id-2 div.sk-item {position: relative;z-index: 1;}#sk-container-id-2 div.sk-parallel {display: flex;align-items: stretch;justify-content: center;background-color: white;position: relative;}#sk-container-id-2 div.sk-item::before, #sk-container-id-2 div.sk-parallel-item::before {content: \"\";position: absolute;border-left: 1px solid gray;box-sizing: border-box;top: 0;bottom: 0;left: 50%;z-index: -1;}#sk-container-id-2 div.sk-parallel-item {display: flex;flex-direction: column;z-index: 1;position: relative;background-color: white;}#sk-container-id-2 div.sk-parallel-item:first-child::after {align-self: flex-end;width: 50%;}#sk-container-id-2 div.sk-parallel-item:last-child::after {align-self: flex-start;width: 50%;}#sk-container-id-2 div.sk-parallel-item:only-child::after {width: 0;}#sk-container-id-2 div.sk-dashed-wrapped {border: 1px dashed gray;margin: 0 0.4em 0.5em 0.4em;box-sizing: border-box;padding-bottom: 0.4em;background-color: white;}#sk-container-id-2 div.sk-label label {font-family: monospace;font-weight: bold;display: inline-block;line-height: 1.2em;}#sk-container-id-2 div.sk-label-container {text-align: center;}#sk-container-id-2 div.sk-container {/* jupyter's `normalize.less` sets `[hidden] { display: none; }` but bootstrap.min.css set `[hidden] { display: none !important; }` so we also need the `!important` here to be able to override the default hidden behavior on the sphinx rendered scikit-learn.org. See: https://github.com/scikit-learn/scikit-learn/issues/21755 */display: inline-block !important;position: relative;}#sk-container-id-2 div.sk-text-repr-fallback {display: none;}</style><div id=\"sk-container-id-2\" class=\"sk-top-container\"><div class=\"sk-text-repr-fallback\"><pre>DecisionTreeClassifier(max_depth=5, min_samples_leaf=5, min_samples_split=5)</pre><b>In a Jupyter environment, please rerun this cell to show the HTML representation or trust the notebook. <br />On GitHub, the HTML representation is unable to render, please try loading this page with nbviewer.org.</b></div><div class=\"sk-container\" hidden><div class=\"sk-item\"><div class=\"sk-estimator sk-toggleable\"><input class=\"sk-toggleable__control sk-hidden--visually\" id=\"sk-estimator-id-2\" type=\"checkbox\" checked><label for=\"sk-estimator-id-2\" class=\"sk-toggleable__label sk-toggleable__label-arrow\">DecisionTreeClassifier</label><div class=\"sk-toggleable__content\"><pre>DecisionTreeClassifier(max_depth=5, min_samples_leaf=5, min_samples_split=5)</pre></div></div></div></div></div>"
      ],
      "text/plain": [
       "DecisionTreeClassifier(max_depth=5, min_samples_leaf=5, min_samples_split=5)"
      ]
     },
     "execution_count": 97,
     "metadata": {},
     "output_type": "execute_result"
    }
   ],
   "source": [
    "dtc2 = DecisionTreeClassifier(min_samples_split= 5, min_samples_leaf= 5, max_depth= 5, criterion= 'gini')\n",
    "dtc2.fit(x_train_new,y_train_new)"
   ]
  },
  {
   "cell_type": "code",
   "execution_count": 98,
   "metadata": {
    "colab": {
     "base_uri": "https://localhost:8080/"
    },
    "id": "HhoxUudX7kbV",
    "outputId": "dc63a20a-8e53-4586-87bc-b8d1369d4ac4"
   },
   "outputs": [
    {
     "name": "stdout",
     "output_type": "stream",
     "text": [
      "Accuracy score  0.9757692068916187\n",
      "Precision score  0.1446566231672293\n",
      "F1 score:  98.38 %\n"
     ]
    }
   ],
   "source": [
    "\n",
    "y_pred=dtc2.predict(x_test)\n",
    "\n",
    "\n",
    "print(\"Accuracy score \" , accuracy_score(y_test,y_pred))\n",
    "print(\"Precision score \" , precision_score(y_test,y_pred))\n",
    "print(\"F1 score: \", round(f1_score(y_test, y_pred, average='weighted')*100,2),\"%\")"
   ]
  },
  {
   "cell_type": "code",
   "execution_count": null,
   "metadata": {},
   "outputs": [],
   "source": [
    "dtc3 = DecisionTreeClassifier(min_samples_split= 50, min_samples_leaf= 20, max_depth= 50, criterion= 'gini')\n",
    "dtc3.fit(x_train_new,y_train_new)"
   ]
  },
  {
   "cell_type": "code",
   "execution_count": null,
   "metadata": {},
   "outputs": [],
   "source": [
    "y_pred=dtc3.predict(x_test)\n",
    "\n",
    "\n",
    "print(\"Accuracy score \" , accuracy_score(y_test,y_pred))\n",
    "print(\"Precision score \" , precision_score(y_test,y_pred))\n",
    "print(\"F1 score: \", round(f1_score(y_test, y_pred, average='weighted')*100,2),\"%\")"
   ]
  },
  {
   "cell_type": "code",
   "execution_count": null,
   "metadata": {},
   "outputs": [],
   "source": [
    "#xgboost"
   ]
  },
  {
   "cell_type": "code",
   "execution_count": null,
   "metadata": {
    "colab": {
     "base_uri": "https://localhost:8080/"
    },
    "id": "JNgEBVZ0fLqz",
    "outputId": "4b18e37b-6a6a-4ada-88b6-5860ed37f7e3"
   },
   "outputs": [],
   "source": [
    "from xgboost import XGBClassifier\n",
    "xgb=XGBClassifier()\n",
    "model4=xgb.fit(x_train_new,y_train_new)\n",
    "y_xgbpred=model4.predict(x_test)\n",
    "y_xgbpred\n",
    "\n",
    "print(\"XGBoost\")\n",
    "print(\"Accuracy:\", {accuracy_score(y_test,y_xgbpred).round(4)})\n",
    "print(\"recall_Score:\", {recall_score(y_test,y_xgbpred).round(4)})\n",
    "print(\"Precision_score:\", {precision_score(y_test,y_xgbpred).round(4)})\n",
    "print(\"F1-score equals:\", {f1_score(y_test,y_xgbpred).round(4)})\n",
    "confusion_matrix(y_test,y_xgbpred)"
   ]
  },
  {
   "cell_type": "markdown",
   "metadata": {
    "id": "wCmGlVVzfLq2"
   },
   "source": [
    "KNN"
   ]
  },
  {
   "cell_type": "code",
   "execution_count": null,
   "metadata": {
    "colab": {
     "base_uri": "https://localhost:8080/"
    },
    "id": "FnCvKfN2fLq2",
    "outputId": "1cb923ce-5430-4e00-dfa0-952b4a008e31"
   },
   "outputs": [],
   "source": [
    "from sklearn.neighbors import KNeighborsClassifier\n",
    "knn=KNeighborsClassifier(n_neighbors=6)\n",
    "model5=knn.fit(x_train_new,y_train_new)\n",
    "y_knnpred=model5.predict(x_test)\n",
    "y_knnpred\n",
    "confusion_matrix(y_test,y_knnpred)\n",
    "print(\"KNN\")\n",
    "print(\"Accuracy:\", {accuracy_score(y_test,y_knnpred).round(4)})\n",
    "print(\"recall_Score:\", {recall_score(y_test,y_knnpred).round(4)})\n",
    "print(\"Precision_score:\", {precision_score(y_test,y_knnpred).round(4)})\n",
    "print(\"F1-score equals:\", {f1_score(y_test,y_knnpred).round(4)})"
   ]
  },
  {
   "cell_type": "markdown",
   "metadata": {
    "id": "z4yu625nfLq2"
   },
   "source": [
    "NaiveBaiyes"
   ]
  },
  {
   "cell_type": "code",
   "execution_count": null,
   "metadata": {
    "colab": {
     "base_uri": "https://localhost:8080/"
    },
    "id": "ChOqwmCBfLq2",
    "outputId": "4212b3f2-8565-459b-df00-b7b777818cb1"
   },
   "outputs": [],
   "source": [
    "from sklearn.naive_bayes import GaussianNB\n",
    "gub=GaussianNB()\n",
    "model6=gub.fit(x_train,y_train)\n",
    "y_gubpred=model6.predict(x_test)\n",
    "y_gubpred\n",
    "confusion_matrix(y_test,y_gubpred)\n",
    "print(\"Naive Baiyes\")\n",
    "print(\"Accuracy:\", {accuracy_score(y_test,y_gubpred).round(4)})\n",
    "print(\"recall_Score:\", {recall_score(y_test,y_gubpred).round(4)})\n",
    "print(\"Precision_score:\", {precision_score(y_test,y_gubpred).round(4)})\n",
    "print(\"F1-score equals:\", {f1_score(y_test,y_gubpred).round(4)})"
   ]
  },
  {
   "cell_type": "code",
   "execution_count": null,
   "metadata": {
    "colab": {
     "base_uri": "https://localhost:8080/",
     "height": 415
    },
    "id": "0Z9OqmpcfLq3",
    "outputId": "818b9d5e-d75f-467a-ec72-01fa2376a951"
   },
   "outputs": [],
   "source": [
    "models = []\n",
    "models.append((\"LR\", LogisticRegression()))\n",
    "models.append((\"Tree\", DecisionTreeClassifier()))\n",
    "#models.append((\"RF\", RandomForestClassifier()))\n",
    "models.append((\"KNN\", KNeighborsClassifier()))\n",
    "models.append((\"NB\", GaussianNB()))\n",
    "models.append((\"XGB\", XGBClassifier()))\n",
    "results = []\n",
    "names = []\n",
    "from sklearn.model_selection import KFold , cross_val_score, GridSearchCV\n",
    "for name,model in models:\n",
    "    kfold = KFold(n_splits=5)\n",
    "    cv_results = cross_val_score(model, x,y,cv=kfold, scoring=\"accuracy\")\n",
    "    results.append(cv_results)\n",
    "    names.append(name)\n",
    "    cv1_results = cross_val_score(model, x,y,cv=kfold, scoring=\"precision\")\n",
    "    outcome = \"%s: %f (%f)\" % (name,cv_results.mean()*100, cv1_results.mean()*100)\n",
    "    print(outcome)"
   ]
  },
  {
   "cell_type": "code",
   "execution_count": null,
   "metadata": {
    "colab": {
     "base_uri": "https://localhost:8080/",
     "height": 265
    },
    "id": "kXiwjE8CfLq3",
    "outputId": "ddf4ff7d-a9d8-438f-9663-b4686bb4af24"
   },
   "outputs": [],
   "source": [
    "fig = plt.figure()\n",
    "\n",
    "sns.histplot(results)\n",
    "plt.show()"
   ]
  },
  {
   "cell_type": "code",
   "execution_count": null,
   "metadata": {
    "colab": {
     "base_uri": "https://localhost:8080/",
     "height": 265
    },
    "id": "vuQ86IeUfLq3",
    "outputId": "11ef6259-9eee-4192-bdd3-5d3ac0605f47"
   },
   "outputs": [],
   "source": [
    "fig = plt.figure()\n",
    "axis = fig.add_subplot(111)\n",
    "plt.boxplot(results)\n",
    "axis.set_xticklabels(names)\n",
    "plt.show()"
   ]
  },
  {
   "cell_type": "code",
   "execution_count": null,
   "metadata": {
    "id": "x1IM8_Kf9YU-"
   },
   "outputs": [],
   "source": [
    "# Feature Scaling\n",
    "from sklearn.preprocessing import StandardScaler\n",
    "sc = StandardScaler()\n",
    "x_train = sc.fit_transform(x_train)\n",
    "x_test = sc.transform(x_test)"
   ]
  },
  {
   "cell_type": "code",
   "execution_count": null,
   "metadata": {
    "id": "nS8p_YWyB25L"
   },
   "outputs": [],
   "source": [
    "# Fitting Kernel SVM to the Training set\n",
    "from sklearn.svm import SVC\n",
    "classifier = SVC(kernel = 'linear', random_state = 2)\n",
    "classifier.fit(x_train, y_train)"
   ]
  },
  {
   "cell_type": "code",
   "execution_count": null,
   "metadata": {
    "id": "rcW05_AI9iNu"
   },
   "outputs": [],
   "source": [
    "# Predicting the Test set results\n",
    "y_pred = classifier.predict(x_test)"
   ]
  },
  {
   "cell_type": "code",
   "execution_count": null,
   "metadata": {
    "id": "aPP6n_Bx9iap"
   },
   "outputs": [],
   "source": [
    "# Making the Confusion Matrix\n",
    "from sklearn.metrics import confusion_matrix\n",
    "cm = confusion_matrix(y_test, y_pred)"
   ]
  },
  {
   "cell_type": "code",
   "execution_count": null,
   "metadata": {
    "id": "DzR3RhuR9psn"
   },
   "outputs": [],
   "source": [
    "from sklearn.metrics import accuracy_score,precision_score\n",
    "accuracy=accuracy_score(y_test,y_pred)\n",
    "precision=precision_score(y_test,y_pred)"
   ]
  },
  {
   "cell_type": "raw",
   "metadata": {},
   "source": [
    "PCA"
   ]
  },
  {
   "cell_type": "code",
   "execution_count": null,
   "metadata": {},
   "outputs": [],
   "source": [
    "from sklearn.decomposition import PCA\n",
    "pca = PCA(.80)\n",
    "pca.fit(x_train)"
   ]
  },
  {
   "cell_type": "code",
   "execution_count": null,
   "metadata": {},
   "outputs": [],
   "source": [
    "pca.n_components_"
   ]
  },
  {
   "cell_type": "code",
   "execution_count": null,
   "metadata": {},
   "outputs": [],
   "source": [
    "x_train= pca.transform(x_train)\n",
    "x_test= pca.transform(x_test)"
   ]
  },
  {
   "cell_type": "code",
   "execution_count": null,
   "metadata": {},
   "outputs": [],
   "source": [
    "from sklearn.linear_model import LogisticRegression\n",
    "lr=LogisticRegression()\n",
    "model1=lr.fit(x_train,y_train)\n",
    "y_lrpred=model1.predict(x_test)\n",
    "y_lrpred\n",
    "confusion_matrix(y_test,y_lrpred)\n",
    "print(\"Logistic Regression\")\n",
    "print(\"Accuracy:\", {accuracy_score(y_test,y_lrpred).round(4)})\n",
    "print(\"recall_Score:\", {recall_score(y_test,y_lrpred).round(4)})\n",
    "print(\"Precision_score:\", {precision_score(y_test,y_lrpred).round(4)})\n",
    "print(\"F1-score equals:\", {f1_score(y_test,y_lrpred).round(4)})"
   ]
  },
  {
   "cell_type": "code",
   "execution_count": null,
   "metadata": {},
   "outputs": [],
   "source": [
    "from sklearn.tree import DecisionTreeClassifier\n",
    "dtr=DecisionTreeClassifier()\n",
    "model2=dtr.fit(x_train,y_train)\n",
    "y_dtrpred=model2.predict(x_test)\n",
    "y_dtrpred\n",
    "confusion_matrix(y_test,y_dtrpred)\n",
    "print(\"Decision tree\")\n",
    "print(\"Accuracy:\", {accuracy_score(y_test,y_dtrpred).round(4)})\n",
    "print(\"recall_Score:\", {recall_score(y_test,y_dtrpred).round(4)})\n",
    "print(\"Precision_score:\", {precision_score(y_test,y_dtrpred).round(4)})\n",
    "print(\"F1-score equals:\", {f1_score(y_test,y_dtrpred).round(4)})"
   ]
  },
  {
   "cell_type": "code",
   "execution_count": null,
   "metadata": {},
   "outputs": [],
   "source": [
    "from xgboost import XGBClassifier\n",
    "xgb=XGBClassifier()\n",
    "model4=xgb.fit(x_train,y_train)\n",
    "y_xgbpred=model4.predict(x_test)\n",
    "y_xgbpred\n",
    "confusion_matrix(y_test,y_xgbpred)\n",
    "print(\"XGBoost\")\n",
    "print(\"Accuracy:\", {accuracy_score(y_test,y_xgbpred).round(4)})\n",
    "print(\"recall_Score:\", {recall_score(y_test,y_xgbpred).round(4)})\n",
    "print(\"Precision_score:\", {precision_score(y_test,y_xgbpred).round(4)})\n",
    "print(\"F1-score equals:\", {f1_score(y_test,y_xgbpred).round(4)})"
   ]
  },
  {
   "cell_type": "code",
   "execution_count": null,
   "metadata": {},
   "outputs": [],
   "source": [
    "from sklearn.neighbors import KNeighborsClassifier\n",
    "knn=KNeighborsClassifier(n_neighbors=6)\n",
    "model5=knn.fit(x_train,y_train)\n",
    "y_knnpred=model5.predict(x_test)\n",
    "y_knnpred\n",
    "confusion_matrix(y_test,y_knnpred)\n",
    "print(\"KNN\")\n",
    "print(\"Accuracy:\", {accuracy_score(y_test,y_knnpred).round(4)})\n",
    "print(\"recall_Score:\", {recall_score(y_test,y_knnpred).round(4)})\n",
    "print(\"Precision_score:\", {precision_score(y_test,y_knnpred).round(4)})\n",
    "print(\"F1-score equals:\", {f1_score(y_test,y_knnpred).round(4)})"
   ]
  },
  {
   "cell_type": "code",
   "execution_count": null,
   "metadata": {},
   "outputs": [],
   "source": [
    "from sklearn.ensemble import RandomForestClassifier\n",
    "rf=RandomForestClassifier()\n",
    "model3=rf.fit(x_train,y_train)\n",
    "y_rfpred=model3.predict(x_test)\n",
    "y_rfpred\n",
    "\n",
    "print(\"Random Forest\")\n",
    "print(\"Accuracy:\", {accuracy_score(y_test,y_rfpred).round(4)})\n",
    "print(\"recall_Score:\", {recall_score(y_test,y_rfpred).round(4)})\n",
    "print(\"Precision_score:\", {precision_score(y_test,y_rfpred).round(4)})\n",
    "print(\"F1-score equals:\", {f1_score(y_te"
   ]
  },
  {
   "cell_type": "code",
   "execution_count": null,
   "metadata": {},
   "outputs": [],
   "source": [
    "from sklearn.naive_bayes import GaussianNB\n",
    "gub=GaussianNB()\n",
    "model6=gub.fit(x_train,y_train)\n",
    "y_gubpred=model6.predict(x_test)\n",
    "y_gubpred\n",
    "confusion_matrix(y_test,y_gubpred)\n",
    "print(\"Naive Baiyes\")\n",
    "print(\"Accuracy:\", {accuracy_score(y_test,y_gubpred).round(4)})\n",
    "print(\"recall_Score:\", {recall_score(y_test,y_gubpred).round(4)})\n",
    "print(\"Precision_score:\", {precision_score(y_test,y_gubpred).round(4)})\n",
    "print(\"F1-score equals:\", {f1_score(y_test,y_gubpred).round(4)})"
   ]
  },
  {
   "cell_type": "code",
   "execution_count": null,
   "metadata": {},
   "outputs": [],
   "source": [
    "#To get longitude and longitude from location\n",
    "from geopy.geocoders import ArcGIS\n",
    "nom=ArcGIS()\n",
    "df3 = nom.geocode('JP Morgan Tower')"
   ]
  },
  {
   "cell_type": "code",
   "execution_count": null,
   "metadata": {},
   "outputs": [],
   "source": [
    "df3[1][0]"
   ]
  },
  {
   "cell_type": "code",
   "execution_count": null,
   "metadata": {},
   "outputs": [],
   "source": []
  }
 ],
 "metadata": {
  "colab": {
   "provenance": []
  },
  "kernelspec": {
   "display_name": "Python 3",
   "language": "python",
   "name": "python3"
  },
  "language_info": {
   "codemirror_mode": {
    "name": "ipython",
    "version": 3
   },
   "file_extension": ".py",
   "mimetype": "text/x-python",
   "name": "python",
   "nbconvert_exporter": "python",
   "pygments_lexer": "ipython3",
   "version": "3.8.8"
  }
 },
 "nbformat": 4,
 "nbformat_minor": 1
}